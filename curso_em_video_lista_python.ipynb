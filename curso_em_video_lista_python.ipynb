{
  "cells": [
    {
      "cell_type": "markdown",
      "metadata": {
        "id": "view-in-github",
        "colab_type": "text"
      },
      "source": [
        "<a href=\"https://colab.research.google.com/github/Mathrn/matheus_rocha/blob/main/curso_em_video_lista_python.ipynb\" target=\"_parent\"><img src=\"https://colab.research.google.com/assets/colab-badge.svg\" alt=\"Open In Colab\"/></a>"
      ]
    },
    {
      "cell_type": "markdown",
      "metadata": {
        "id": "9-KaO-upN3F6"
      },
      "source": [
        "# Lista de exercicios do curso em video - professor guanabara\n",
        "python 0-100\n"
      ]
    },
    {
      "cell_type": "code",
      "execution_count": null,
      "metadata": {
        "id": "gIJKExP3Dpit"
      },
      "outputs": [],
      "source": []
    },
    {
      "cell_type": "markdown",
      "metadata": {
        "id": "Gk6ydm2XRIz_"
      },
      "source": [
        "basicamente, estou iniciando pela aula. nela o professor aborda tipos primitivos de dados.\n",
        "são eles:\n",
        "int - numeros inteiros\n",
        "bool - verdadeiro ou falso\n",
        "float - numeros reais\n",
        "str - textos"
      ]
    },
    {
      "cell_type": "code",
      "execution_count": null,
      "metadata": {
        "colab": {
          "base_uri": "https://localhost:8080/"
        },
        "id": "F_gUVhZFNecl",
        "outputId": "ffd07224-0881-4472-d910-e81533965f9a"
      },
      "outputs": [
        {
          "name": "stdout",
          "output_type": "stream",
          "text": [
            "digite um numero:12\n",
            "digite um numero: 35\n",
            "a soma dos numeros informados é 47\n"
          ]
        }
      ],
      "source": [
        "#3) crie um programa que leia dois numeros e mostre a soma entre eles\n",
        "n1 = int(input(\"digite um numero:\"))\n",
        "n2 = int(input(\"digite um numero: \"))\n",
        "s = n1+n2\n",
        "print(f'a soma dos numeros informados é {s}')"
      ]
    },
    {
      "cell_type": "code",
      "execution_count": null,
      "metadata": {
        "colab": {
          "base_uri": "https://localhost:8080/"
        },
        "id": "JLgC2PWhN2cC",
        "outputId": "f55b6fe0-47ba-4698-ee2e-c9e57e7b2375"
      },
      "outputs": [
        {
          "name": "stdout",
          "output_type": "stream",
          "text": [
            "digite um numero inteiro: 35rA\n",
            "tipo primitivo do que foi digitado: <class 'str'>\n",
            "o que foi digitado é numerico?  False\n",
            "todos os caracteres são letras? False\n",
            "todas as letras são minusculas? False\n"
          ]
        }
      ],
      "source": [
        "#4) faça um programa que leia algo pelo teclado e mostre na tela o seu tipo primitivo\n",
        "# e todas as informacoes sobre ele.\n",
        "algo  = (input(\"digite um numero inteiro: \"))\n",
        "print(f\"tipo primitivo do que foi digitado: {type(algo)}\")\n",
        "print(\"o que foi digitado é numerico? \",algo.isnumeric())\n",
        "print(f'todos os caracteres são letras? {algo.isalpha()}')\n",
        "print(f'todas as letras são minusculas? {algo.islower()}')\n",
        "\n",
        "\n",
        "\n"
      ]
    },
    {
      "cell_type": "markdown",
      "metadata": {
        "id": "oc5le7tPbT5Z"
      },
      "source": [
        "AULA 5- OPERADORES ARITMETICOS"
      ]
    },
    {
      "cell_type": "code",
      "execution_count": null,
      "metadata": {
        "colab": {
          "base_uri": "https://localhost:8080/"
        },
        "id": "4VXx3yMEbR9e",
        "outputId": "74ba9a1e-3b3d-48df-c4c2-c4a1840feb74"
      },
      "outputs": [
        {
          "name": "stdout",
          "output_type": "stream",
          "text": [
            "digite um numero: 12\n",
            "o numero infromado foi 12 o antecessor é 11 e o seu sucessor é 13\n"
          ]
        }
      ],
      "source": [
        "'''5- Faça um programa que leia um número Inteiro e mostre na tela o seu sucessor e seu antecessor.'''\n",
        "num =int(input(\"digite um numero: \"))\n",
        "ant = num-1\n",
        "suc = num+1\n",
        "print(f'o numero informado foi {num} o antecessor é {ant} e o seu sucessor é {suc}')\n"
      ]
    },
    {
      "cell_type": "code",
      "execution_count": null,
      "metadata": {
        "colab": {
          "base_uri": "https://localhost:8080/"
        },
        "id": "jGymsbfYUvEX",
        "outputId": "66ada615-0b19-49f4-eadb-233c9a8225b6"
      },
      "outputs": [
        {
          "name": "stdout",
          "output_type": "stream",
          "text": [
            "digite um numero: 1589\n",
            "o numero digitado foi 1589.0 \n",
            " o seu dobro é 3178.0, \n",
            " triplo 4767.000 \n",
            " e sua raiz é 39.862\n"
          ]
        }
      ],
      "source": [
        "'''6-Crie um algoritmo que leia um número e mostre o seu dobro, triplo e raiz quadrada.'''\n",
        "num = float(input(\"digite um numero: \"))\n",
        "print(f'o numero digitado foi {num} \\n o seu dobro é {num*2}, \\n triplo {num*3:.3f} \\n e sua raiz é {num**(0.5):.3f}')\n",
        "\n",
        "#conhecimento novo : o comando \\n quebra o print e coloca o conteudo dele em outra linha"
      ]
    },
    {
      "cell_type": "code",
      "execution_count": null,
      "metadata": {
        "colab": {
          "base_uri": "https://localhost:8080/"
        },
        "id": "gW222vhYW1sF",
        "outputId": "d82ddbfb-cb7f-4964-8477-f3e572338448"
      },
      "outputs": [
        {
          "name": "stdout",
          "output_type": "stream",
          "text": [
            "digite sua nota:5.5\n",
            "digite sua nota: 6.5\n",
            "a media ponderada da suas duas notas é 6.00\n"
          ]
        }
      ],
      "source": [
        "'''7 -  Desenvolva um programa que leia as duas notas de um aluno, calcule e mostre a sua média.'''\n",
        "nota1 = float(input(\"digite sua nota:\"))\n",
        "nota2 = float(input(\"digite sua nota: \"))\n",
        "med = (nota1+nota2)/2\n",
        "print(f\"a media ponderada da suas duas notas é {med:.2f}\")"
      ]
    },
    {
      "cell_type": "code",
      "execution_count": null,
      "metadata": {
        "colab": {
          "base_uri": "https://localhost:8080/"
        },
        "id": "MWSfRYHdaiAl",
        "outputId": "6fca99d4-f0a9-4bcd-80c4-9884e3b32ba3"
      },
      "outputs": [
        {
          "name": "stdout",
          "output_type": "stream",
          "text": [
            "digite um valor em metros:23.57\n",
            " o valor digitado em metros, corresponde a 2357.0cm \n",
            " 23570.0 milimetros \n",
            " e 2.357 decametros\n"
          ]
        }
      ],
      "source": [
        "'''8-Escreva um programa que leia um valor em metros e o exiba convertido em centímetros e milímetros'''\n",
        "valor = float(input('digite um valor em metros:'))\n",
        "cent = valor*100\n",
        "mili = valor * 1000\n",
        "dec = valor /10\n",
        "print(f' o valor digitado em metros, corresponde a {cent}cm \\n {mili} milimetros \\n e {dec} decametros')\n"
      ]
    },
    {
      "cell_type": "code",
      "execution_count": null,
      "metadata": {
        "colab": {
          "base_uri": "https://localhost:8080/"
        },
        "id": "-VkkCNv_byQB",
        "outputId": "2ab1de19-3844-4196-99f1-62b262f69f49"
      },
      "outputs": [
        {
          "name": "stdout",
          "output_type": "stream",
          "text": [
            "digite um numero: 1500\n",
            "a tabuada desse numero de 1-10 corresponde a\n",
            " 1500 x 1 = 1500\n",
            " 1500 x 2 = 3000 \n",
            " 1500 x 3 = 4500 \n",
            " 1500 x 4 = 6000 \n",
            " 1500 x 5 = 7500 \n",
            " 1500 x 6 = 9000 \n",
            " 1500 x 7 = 10500 \n",
            " 1500 x 8 = 12000 \n",
            " 1500 x 9 = 13500 \n",
            " 1500 x 10 = 15000\n"
          ]
        }
      ],
      "source": [
        "'''9- Faça um programa que leia um número Inteiro qualquer e mostre na tela a sua tabuada.'''\n",
        "num = int(input('digite um numero: '))\n",
        "print('a tabuada desse numero de 1-10 corresponde a')\n",
        "print(f' {num} x 1 = {num}\\n {num} x 2 = {num*2} \\n {num} x 3 = {num*3} \\n {num} x 4 = {num*4} \\n {num} x 5 = {num*5} \\n {num} x 6 = {num*6} ')\n",
        "print(f' {num} x 7 = {num*7} \\n {num} x 8 = {num*8} \\n {num} x 9 = {num*9} \\n {num} x 10 = {num*10}')"
      ]
    },
    {
      "cell_type": "code",
      "execution_count": null,
      "metadata": {
        "colab": {
          "base_uri": "https://localhost:8080/"
        },
        "id": "VxZQUOfbeC-_",
        "outputId": "a8047e39-9339-4ce9-b686-a7b653dd5e32"
      },
      "outputs": [
        {
          "name": "stdout",
          "output_type": "stream",
          "text": [
            "digite quanto dinherio vc tem em reais: 1500\n",
            "o valor correspondente a isso em dolars é de  300.0\n"
          ]
        }
      ],
      "source": [
        "'''10- Crie um programa que leia quanto dinheiro uma pessoa tem na carteira e mostre quantos dólares ela pode comprar.'''\n",
        "din = float(input(\"digite quanto dinherio vc tem em reais: \"))\n",
        "dolar = din/5\n",
        "print('o valor correspondente a isso em dolars é de ', dolar)"
      ]
    },
    {
      "cell_type": "code",
      "execution_count": null,
      "metadata": {
        "colab": {
          "base_uri": "https://localhost:8080/"
        },
        "id": "E6W9Xn4pe-vl",
        "outputId": "4f4b21e7-e963-4e17-a2d5-5124b2559955"
      },
      "outputs": [
        {
          "name": "stdout",
          "output_type": "stream",
          "text": [
            "digite a largura da parade:3.08\n",
            "digite a altura: 4.67\n",
            " sua parede tem 4.67x3.08 e possui uma area de 14.384m2\n",
            "para pinta-la vão ser nescessarios 7.192 litros de tinta\n"
          ]
        }
      ],
      "source": [
        "'''11-Faça um programa que leia a largura e a altura de uma parede em metros, calcule a sua área e a quantidade de\n",
        "tinta necessária para pintá-la, sabendo que cada litro de tinta pinta uma área de 2 metros quadrados.'''\n",
        "lar = float(input(\"digite a largura da parade:\"))\n",
        "h = float(input(\"digite a altura: \"))\n",
        "area = h*lar\n",
        "litros = area/2\n",
        "print(f' sua parede tem {h}x{lar} e possui uma area de {area:.3f}m2')\n",
        "print(f'para pinta-la vão ser nescessarios {litros:.3f} litros de tinta')\n"
      ]
    },
    {
      "cell_type": "code",
      "execution_count": null,
      "metadata": {
        "colab": {
          "base_uri": "https://localhost:8080/"
        },
        "id": "lvbC9s_ocEMj",
        "outputId": "9a373dc9-531d-4661-dcdd-cfd7b464376b"
      },
      "outputs": [
        {
          "name": "stdout",
          "output_type": "stream",
          "text": [
            "digite o valor do produto: 120\n",
            " o produto informado custava 120.0reais e agora com 5% de desconto, custa apenas 114.0 reais\n"
          ]
        }
      ],
      "source": [
        "'''12-Faça um algoritmo que leia o preço de um produto e mostre seu novo preço, com 5% de desconto'''\n",
        "prod = float(input(\"digite o valor do produto: \"))\n",
        "pre = prod -(prod*0.05)\n",
        "print(f' o produto informado custava {prod}reais e agora com 5% de desconto, custa apenas {pre} reais')"
      ]
    },
    {
      "cell_type": "code",
      "execution_count": null,
      "metadata": {
        "colab": {
          "base_uri": "https://localhost:8080/"
        },
        "id": "m8n2DVdjcmGW",
        "outputId": "f272def3-572d-4cda-8022-ee827f8fe867"
      },
      "outputs": [
        {
          "name": "stdout",
          "output_type": "stream",
          "text": [
            "digite o seu salario:3500\n",
            "o seu salario era 3500.0reais e agora com 15% de aumento se tornara 4025.0 reais\n"
          ]
        }
      ],
      "source": [
        "'''13- Faça um algoritmo que leia o salário de um funcionário e mostre seu novo salário, com 15% de aumento.'''\n",
        "sal = float(input('digite o seu salario:'))\n",
        "new = sal+(sal*0.15)\n",
        "print(f'o seu salario era {sal}reais e agora com 15% de aumento se tornara {new} reais' )"
      ]
    },
    {
      "cell_type": "code",
      "execution_count": null,
      "metadata": {
        "colab": {
          "base_uri": "https://localhost:8080/"
        },
        "id": "V-JJvjwmdOVQ",
        "outputId": "c7787e37-8c1f-4301-fc0c-39134e93480e"
      },
      "outputs": [
        {
          "name": "stdout",
          "output_type": "stream",
          "text": [
            "digite o grau celciun a ser convertido: 24\n",
            " 24.0 graus celcius equivale a 75.2 fahrenheit\n"
          ]
        }
      ],
      "source": [
        "'''14- Escreva um programa que converta uma temperatura digitando em graus Celsius e converta para graus Fahrenheit.'''\n",
        "c = float(input(\"digite o grau celciun a ser convertido: \"))\n",
        "f = (9*c/5)+32\n",
        "print(f' {c} graus celcius equivale a {f} fahrenheit')"
      ]
    },
    {
      "cell_type": "code",
      "execution_count": null,
      "metadata": {
        "colab": {
          "base_uri": "https://localhost:8080/"
        },
        "id": "7nNZOlxpewMy",
        "outputId": "0b956e7c-f339-4a73-fa4e-8dcf2bb89ebd"
      },
      "outputs": [
        {
          "name": "stdout",
          "output_type": "stream",
          "text": [
            "digite a quantidade de kms rodados com o carro: 4650\n",
            "digite a quantidade de dias que vc ficou com o carro: 10\n",
            "o preço custara 1297.5reais \n"
          ]
        }
      ],
      "source": [
        "'''15-Escreva um programa que pergunte a quantidade de Km percorridos por um carro alugado e a quantidade de dias pelos quais ele foi alugado.\n",
        " Calcule o preço a pagar, sabendo que o carro custa R$60 por dia e R$0,15 por Km rodado.'''\n",
        "km = float(input(\"digite a quantidade de kms rodados com o carro: \"))\n",
        "dias = int(input(\"digite a quantidade de dias que vc ficou com o carro: \"))\n",
        "preco = 60.0*dias+0.15*km\n",
        "print(f'o preço custara {preco}reais ')"
      ]
    },
    {
      "cell_type": "markdown",
      "metadata": {
        "id": "VceRWhryikIp"
      },
      "source": [
        "aula 08 - utilizando modulos"
      ]
    },
    {
      "cell_type": "code",
      "execution_count": null,
      "metadata": {
        "colab": {
          "base_uri": "https://localhost:8080/"
        },
        "id": "r8a2YY5VfsxF",
        "outputId": "d875bc90-3d2f-4beb-c5b5-91683bfed4a6"
      },
      "outputs": [
        {
          "name": "stdout",
          "output_type": "stream",
          "text": [
            "['cereja', 'celul.ar', 'maca', 'matheus']\n"
          ]
        }
      ],
      "source": [
        "import random\n",
        "# random.shuffler(lista) mistura o itens de uma lita e cria uma nova lista\n",
        "l =['maca','matheus','cereja','celul.ar']\n",
        "random.shuffle(l)\n",
        "print(l)"
      ]
    },
    {
      "cell_type": "code",
      "execution_count": null,
      "metadata": {
        "colab": {
          "base_uri": "https://localhost:8080/"
        },
        "id": "oTuwHwR9zxWO",
        "outputId": "ac6f9b64-2a3b-4d5f-dffa-0a1875961881"
      },
      "outputs": [
        {
          "name": "stdout",
          "output_type": "stream",
          "text": [
            "digite um numero: 14.56\n",
            "digite um numero: 4.54\n",
            "3\n",
            "3.207\n"
          ]
        }
      ],
      "source": [
        "'''16- Crie um programa que leia um número Real qualquer pelo teclado e mostre na tela a sua porção Inteira.'''\n",
        "import math\n",
        "a= float(input(\"digite um numero: \"))\n",
        "b =float(input(\"digite um numero: \"))\n",
        "c = a/b\n",
        "print(math.floor(c))\n",
        "#math.floor seleciona e exibe apenas a porção inteira de um numero\n",
        "print(f'{c:.3f}')"
      ]
    },
    {
      "cell_type": "code",
      "execution_count": null,
      "metadata": {
        "colab": {
          "base_uri": "https://localhost:8080/"
        },
        "id": "Aw2o80MF0tTj",
        "outputId": "77d48438-0edc-467c-afdd-a692d9cbe595"
      },
      "outputs": [
        {
          "name": "stdout",
          "output_type": "stream",
          "text": [
            "digite um numero: 12.4\n",
            "digite um numero: 32.5\n",
            "a hipotenusa é 34.785\n"
          ]
        }
      ],
      "source": [
        "'''17-Faça um programa que leia o comprimento do cateto oposto e do cateto adjacente de\n",
        " um triângulo retângulo. Calcule e mostre o comprimento da hipotenusa.'''\n",
        "import math\n",
        "catop=float(input(\"digite um numero: \"))\n",
        "catadj = float(input(\"digite um numero: \"))\n",
        "print(f'a hipotenusa é {math.hypot(catop,catadj):.3f}')\n",
        "\n"
      ]
    },
    {
      "cell_type": "code",
      "execution_count": null,
      "metadata": {
        "colab": {
          "base_uri": "https://localhost:8080/"
        },
        "id": "5pg7GGgG1tkW",
        "outputId": "78707afa-8530-4bb3-c562-374e0b3e3ae0"
      },
      "outputs": [
        {
          "name": "stdout",
          "output_type": "stream",
          "text": [
            "digite o valor do angulo: 30\n",
            "o valor do cosseno: 0.87graus \n",
            " seno 0.50 graus \n",
            " tangente:0.58 graus \n"
          ]
        }
      ],
      "source": [
        "'''18 Faça um programa que leia um ângulo qualquer e mostre na tela o\n",
        "valor do seno, cosseno e tangente desse ângulo.'''\n",
        "import math\n",
        "ang =float(input(\"digite o valor do angulo: \"))\n",
        "seno = math.sin(math.radians(ang))\n",
        "cos = math.cos(math.radians(ang))\n",
        "tang = math.tan(math.radians(ang))\n",
        "print(f'o valor do cosseno: {cos:.2f}graus \\n seno {seno:.2f} graus \\n tangente:{tang:.2f} graus ')\n"
      ]
    },
    {
      "cell_type": "code",
      "execution_count": null,
      "metadata": {
        "colab": {
          "base_uri": "https://localhost:8080/"
        },
        "id": "xbnhvz1X3at3",
        "outputId": "8a6fcc5b-ce0b-4bc2-c0c5-4c7aa73443ef"
      },
      "outputs": [
        {
          "name": "stdout",
          "output_type": "stream",
          "text": [
            "digite o seu nome: a\n",
            "digite o seu nome: d\n",
            "digite o seu nome: f\n",
            "digite o seu nome: x\n",
            "dos alunos listadoos, o escolhido(a) foi f\n"
          ]
        }
      ],
      "source": [
        "'''19-Um professor quer sortear um dos seus quatro alunos para apagar o quadro. Faça um programa\n",
        "que ajude ele, lendo o nome dos alunos e escrevendo na tela o nome do escolhido.'''\n",
        "import random\n",
        "lista=[]\n",
        "a =str(input(\"digite o seu nome: \"))\n",
        "lista.append(a)\n",
        "b =str(input(\"digite o seu nome: \"))\n",
        "lista.append(b)\n",
        "c =str(input(\"digite o seu nome: \"))\n",
        "lista.append(c)\n",
        "d =str(input(\"digite o seu nome: \"))\n",
        "lista.append(d)\n",
        "print(f'dos alunos listadoos, o escolhido(a) foi {random.choice(lista)}')\n",
        "#random.choice escolhe um item aleatoriamente de uma lista"
      ]
    },
    {
      "cell_type": "code",
      "execution_count": null,
      "metadata": {
        "id": "cz7AyfsyyQVn"
      },
      "outputs": [],
      "source": []
    },
    {
      "cell_type": "code",
      "execution_count": null,
      "metadata": {
        "colab": {
          "base_uri": "https://localhost:8080/"
        },
        "id": "9JsPZcRe5BU2",
        "outputId": "4d85d96a-4394-40b1-c150-123dbbc5fd0e"
      },
      "outputs": [
        {
          "name": "stdout",
          "output_type": "stream",
          "text": [
            "digite o seu nome: matheus \n",
            "digite o seu nome: jair\n",
            "digite o seu nome: miguel\n",
            "digite o seu nome: vinicius\n",
            " a ordem de apresentação dos trabalhos sera ['matheus ', 'miguel', 'vinicius', 'jair']\n"
          ]
        }
      ],
      "source": [
        "'''20-O mesmo professor do desafio 019 quer sortear a ordem de apresentação de trabalhos dos alunos.\n",
        "Faça um programa que leia o nome dos quatro alunos e mostre a ordem sorteada.'''\n",
        "import random\n",
        "lista =[]\n",
        "for c in range(4):\n",
        "  nomes=str(input(\"digite o seu nome: \"))\n",
        "  lista.append(nomes)\n",
        "  random.shuffle(lista) # entender melhor como funciona a função shuffle - ela mistura uma lista e gera uma nova lista\n",
        "print(f' a ordem de apresentação dos trabalhos sera {lista}')\n",
        "# a função shuffle embaralha um conjunto de valores e os oferece em uma nova ordem\n"
      ]
    },
    {
      "cell_type": "code",
      "execution_count": null,
      "metadata": {
        "id": "dlx6T_UY7SqQ"
      },
      "outputs": [],
      "source": [
        "'''21-Faça um programa em Python que abra e reproduza o áudio de um arquivo MP3.'''\n",
        "import pygame\n",
        "\n"
      ]
    },
    {
      "cell_type": "code",
      "execution_count": null,
      "metadata": {
        "colab": {
          "base_uri": "https://localhost:8080/"
        },
        "id": "Ip13FceaCqIl",
        "outputId": "5ba183d1-1b18-4bca-e69c-eb1d5fa9f1db"
      },
      "outputs": [
        {
          "name": "stdout",
          "output_type": "stream",
          "text": [
            "informe o seu nome completo: edilson\n",
            "seu nome com todas as letras em maiusculo é EDILSON\n",
            "seu nome com todas as letras em minusculo é edilson\n",
            "a qtd de letras em seu nome é 7\n",
            "o seu primeiro nome tem 7\n"
          ]
        }
      ],
      "source": [
        "'''Exercício Python 022: Crie um programa que leia o nome completo de uma pessoa e mostre:\n",
        "- O nome com todas as letras maiúsculas e minúsculas.\n",
        "- Quantas letras ao todo (sem considerar espaços).\n",
        "- Quantas letras tem o primeiro nome.'''\n",
        "n =str(input(\"informe o seu nome completo: \"))\n",
        "print(f'seu nome com todas as letras em maiusculo é {n.upper()}') #frase.upper() coloca todos os caracteres em maiusculo\n",
        "print(f'seu nome com todas as letras em minusculo é {n.lower()}') #frase.lower()reduz todos os caracteres da frase para o minusculo\n",
        "print(f'a qtd de letras em seu nome é {len(n.strip())}')\n",
        "a = n.split() # frase.split() trasnforma cada palavra existente na frase em um item de uma lista\n",
        "print(f'o seu primeiro nome tem {len(a[0])}')#len(frase) calcula a qtd de caracteres que existe em uma frase\n"
      ]
    },
    {
      "cell_type": "code",
      "execution_count": null,
      "metadata": {
        "colab": {
          "base_uri": "https://localhost:8080/"
        },
        "id": "_MiBY9n_B3Kf",
        "outputId": "0df3c254-9f24-4eb1-d093-f9428e83130f"
      },
      "outputs": [
        {
          "name": "stdout",
          "output_type": "stream",
          "text": [
            "digite um numero inteiro entre 0 a 9999: 123\n",
            "milhar:0 \n",
            " centena : 1 \n",
            "  dezena:2 \n",
            " unidade: 3\n"
          ]
        }
      ],
      "source": [
        "\"\"\"Exercício Python 023: Faça um programa que leia um número de 0 a 9999 e mostre na tela cada um dos dígitos separados\"\"\"\n",
        "n = str(input(\"digite um numero inteiro entre 0 a 9999: \"))\n",
        "a = n.split()\n",
        "if len(a[0]) == 4 :\n",
        "  print(f'milhar: {a[0][0]} \\n centena: {a[0][1]} \\n dezena: {a[0][2]} \\n unidade: {a[0][3]}')\n",
        "if len(a[0])== 3:\n",
        "  print(f'milhar:0 \\n centena : {a[0][0]} \\n  dezena:{a[0][1]} \\n unidade: {a[0][2]}')\n",
        "if len(a[0])==2:\n",
        "  print(f' milhar: 0 \\n centena: 0 \\n dezena:{a[0][0]} \\n unidade:{a[0][1]}')\n",
        "if len(a[0])==1:\n",
        "  print(f'milhar: 0 \\n centena: 0 \\n dezena: 0 \\n unidade: {a[0][0]}')\n"
      ]
    },
    {
      "cell_type": "code",
      "execution_count": null,
      "metadata": {
        "colab": {
          "base_uri": "https://localhost:8080/"
        },
        "id": "8qmGy2QhrS8D",
        "outputId": "2547dd5c-9021-42ec-8f1d-be44099d29b3"
      },
      "outputs": [
        {
          "name": "stdout",
          "output_type": "stream",
          "text": [
            "digite seu nome: mauy\n",
            "digite sua idade : 17\n",
            " ola mauy tudo bem? vc tem 17 anos, voce tera 100 anos em 2107 \n"
          ]
        }
      ],
      "source": [
        "''' exercicio do curso senac'''\n",
        "nome  = str(input(\"digite seu nome: \"))\n",
        "idade =  int(input(\"digite sua idade : \"))\n",
        "falta  = 100 - idade\n",
        "ano  = 2024 + falta\n",
        "print(f' ola {nome} tudo bem? vc tem {idade} anos, voce tera 100 anos em {ano} ')"
      ]
    },
    {
      "cell_type": "code",
      "execution_count": null,
      "metadata": {
        "colab": {
          "base_uri": "https://localhost:8080/"
        },
        "id": "o8G79lm3Dt6n",
        "outputId": "b8612b1a-e100-4815-fbf4-90e5889ec06a"
      },
      "outputs": [
        {
          "name": "stdout",
          "output_type": "stream",
          "text": [
            "digite o nome de uma cidade: são paulo\n",
            "a cidade digitada foi  SÃO PAULO\n",
            "['SÃO', 'PAULO']\n",
            "a cidade digitada possui nome santo \n"
          ]
        }
      ],
      "source": [
        "'''24-Crie um programa que leia o nome de uma cidade diga se ela começa ou não com o nome \"SANTO\".'''\n",
        "cida = str(input(\"digite o nome de uma cidade: \"))\n",
        "print('a cidade digitada foi ', cida.upper())\n",
        "cidade = cida.upper()\n",
        "a = cidade.split()\n",
        "print(a)\n",
        "if a[0] == 'SANTO' or a[0] == 'SANTA' or a[0]=='SÃO':\n",
        "  print('a cidade digitada possui nome santo ')\n",
        "else:\n",
        "  print('a cidade não possui nome santo')"
      ]
    },
    {
      "cell_type": "code",
      "execution_count": null,
      "metadata": {
        "colab": {
          "base_uri": "https://localhost:8080/"
        },
        "id": "dTQ_JU62Pvlk",
        "outputId": "ece41146-754a-45bc-a712-ebd3e94b9ea0"
      },
      "outputs": [
        {
          "name": "stdout",
          "output_type": "stream",
          "text": [
            "digite o seu nome: matheus rocha beer\n",
            "a palavra silva não existe no nome\n"
          ]
        }
      ],
      "source": [
        "'''25-Crie um programa que leia o nome de uma pessoa e diga se ela tem \"SILVA\" no nome.'''\n",
        "a =str(input(\"digite o seu nome: \")).upper()\n",
        "\n",
        "if 'SILVA' in a: # o condando 'in'é usado para buscar uma palavra dentro da frase ex: 'palavra' in frase()\n",
        "  print('o nome possui silva ')\n",
        "else:\n",
        "  print(\"a palavra silva não existe no nome\")"
      ]
    },
    {
      "cell_type": "code",
      "execution_count": null,
      "metadata": {
        "colab": {
          "base_uri": "https://localhost:8080/"
        },
        "id": "KPj-i_vvTDZV",
        "outputId": "8059bba8-9397-4e00-9cf1-27e2a80b7f99"
      },
      "outputs": [
        {
          "name": "stdout",
          "output_type": "stream",
          "text": [
            "digite uma frase:   casa\n",
            " a frase digitada foi casa\n",
            "na frase digitada existe 2 vezes a letra 'a'\n",
            " ela aparece no termo 2 pela primeira \n",
            "vez, no termo 4 pela ultima vez\n"
          ]
        }
      ],
      "source": [
        "''' Faça um programa que leia uma frase pelo teclado e mostre quantas vezes aparece a letra \"A\",\n",
        "em que posição ela aparece a primeira vez e em que posição ela aparece a última vez.'''\n",
        "a =str(input(\"digite uma frase: \"))\n",
        "s =a.strip() # a função strip() retira os espaço desnecessarios da string\n",
        "qtd_vezes = s.count('a')\n",
        "primeira =s.find('a') #frase.find('caractere a ser econtrado') mostra o primeiro termo em que esta localizado o caractere\n",
        "ultima = s.rfind('a') # montra a ultimo termo onde esta localizado o caractere\n",
        "print(f' a frase digitada foi {s}')\n",
        "print(f'''na frase digitada existe {qtd_vezes} vezes a letra 'a'\\n ela aparece no termo {(primeira)+1} pela primeira\n",
        "vez, no termo {(ultima)+1} pela ultima vez''')# é nescessario somar +1 no valor do termo pois o find busca começando pelo 0"
      ]
    },
    {
      "cell_type": "code",
      "execution_count": null,
      "metadata": {
        "colab": {
          "base_uri": "https://localhost:8080/"
        },
        "id": "yGyhAcCGbxOA",
        "outputId": "c07d304a-839f-46eb-e3bb-1451d363b5bb"
      },
      "outputs": [
        {
          "name": "stdout",
          "output_type": "stream",
          "text": [
            "digite seu nome matheus rocha nemer \n",
            "seu primeiro nome é MATHEUS e seu ultimo nome é NEMER\n",
            "['matheus', 'rocha', 'nemer']\n"
          ]
        }
      ],
      "source": [
        "'''27- Faça um programa que leia o nome completo de uma pessoa, mostrando em seguida o primeiro e o último nome separadamente.'''\n",
        "nome =str(input(\"digite seu nome \"))\n",
        "a = nome.split()\n",
        "print(f'seu primeiro nome é {a[0].upper()} e seu ultimo nome é {a[-1].upper()}')\n",
        "print(a)"
      ]
    },
    {
      "cell_type": "markdown",
      "metadata": {
        "id": "rPsv02CRpqDb"
      },
      "source": [
        "28- Escreva um programa que faça o computador \"pensar\" em um número inteiro entre 0 e 5 e peça para o usuário tentar descobrir qual foi o número escolhido pelo computador. O programa deverá escrever na tela se o usuário venceu ou perdeu."
      ]
    },
    {
      "cell_type": "code",
      "execution_count": null,
      "metadata": {
        "colab": {
          "base_uri": "https://localhost:8080/"
        },
        "id": "bi-xm-41pq1N",
        "outputId": "c231a3b1-a7ca-4185-93e4-10a638627a4f"
      },
      "outputs": [
        {
          "name": "stdout",
          "output_type": "stream",
          "text": [
            "digite o numero que o computador pensou de 0 a 5: 4\n",
            "vc acertou\n"
          ]
        }
      ],
      "source": [
        "import random\n",
        "a = random.randint(0,5)\n",
        "b = int(input(\"digite o numero que o computador pensou de 0 a 5: \"))\n",
        "if a==b:\n",
        "  print('vc acertou')\n",
        "else:\n",
        "  print('vc errou ')"
      ]
    },
    {
      "cell_type": "markdown",
      "metadata": {
        "id": "GJVCcYsUsAf4"
      },
      "source": [
        "29 -  Escreva um programa que leia a velocidade de um carro. Se ele ultrapassar 80Km/h, mostre uma mensagem dizendo que ele foi multado. A multa vai custar R$7,00 por cada Km acima do limite."
      ]
    },
    {
      "cell_type": "code",
      "execution_count": null,
      "metadata": {
        "colab": {
          "base_uri": "https://localhost:8080/"
        },
        "id": "5f6UrU3WrMrG",
        "outputId": "c4566e4a-7552-4a2e-936f-293216172385"
      },
      "outputs": [
        {
          "name": "stdout",
          "output_type": "stream",
          "text": [
            "digite a velocidade do carro: 85\n",
            "vc foi multado no valor de R$:35.00\n"
          ]
        }
      ],
      "source": [
        "v = float(input(\"digite a velocidade do carro: \"))\n",
        "if v>80.0:\n",
        "   acima = v-80\n",
        "   multa = 7*acima\n",
        "   print(f'vc foi multado no valor de R$:{multa:.2f}')\n",
        "else:\n",
        "    print('vc não foi multado ')\n"
      ]
    },
    {
      "cell_type": "markdown",
      "metadata": {
        "id": "AmBRHlA6tLcs"
      },
      "source": [
        "30 - Crie um programa que leia um número inteiro e mostre na tela se ele é PAR ou ÍMPAR"
      ]
    },
    {
      "cell_type": "code",
      "execution_count": null,
      "metadata": {
        "colab": {
          "base_uri": "https://localhost:8080/"
        },
        "id": "ipHvxaKltOYN",
        "outputId": "6c108335-da4a-42f6-8c7d-758b5600222c"
      },
      "outputs": [
        {
          "name": "stdout",
          "output_type": "stream",
          "text": [
            "digite um numero: 5678\n",
            "é um numero par\n"
          ]
        }
      ],
      "source": [
        "a =  int(input(\"digite um numero: \"))\n",
        "if a%2==0:\n",
        "  print('é um numero par')\n",
        "else:\n",
        "  print('é um numero impar')"
      ]
    },
    {
      "cell_type": "markdown",
      "metadata": {
        "id": "sVi8L8_Ntz43"
      },
      "source": [
        "*31: Desenvolva um programa que pergunte a distância de uma viagem em Km. Calcule o preço da passagem, cobrando R$0,50  por Km para viagens de até 200Km e R$0,45 parta viagens mais longas.*"
      ]
    },
    {
      "cell_type": "code",
      "execution_count": null,
      "metadata": {
        "colab": {
          "base_uri": "https://localhost:8080/"
        },
        "id": "3PxAp60buFOI",
        "outputId": "72e1f005-96c2-43d7-dcd4-09b0d26af983"
      },
      "outputs": [
        {
          "name": "stdout",
          "output_type": "stream",
          "text": [
            "digite a distancia de sua viagem 201\n",
            "o valor a ser pago pela sua viagem sera de R$:90.45\n"
          ]
        }
      ],
      "source": [
        "d = float(input(\"digite a distancia de sua viagem \"))\n",
        "valor =  d*0.5 if d<=200 else d*0.45\n",
        "print(f'o valor a ser pago pela sua viagem sera de R$:{valor}')"
      ]
    },
    {
      "cell_type": "markdown",
      "metadata": {
        "id": "ELW5JkyDv55_"
      },
      "source": [
        "Exercício Python 032: Faça um programa que leia um ano qualquer e mostre se ele é bissexto."
      ]
    },
    {
      "cell_type": "code",
      "execution_count": null,
      "metadata": {
        "colab": {
          "base_uri": "https://localhost:8080/"
        },
        "id": "TbXb-hKSv6_5",
        "outputId": "a2bd001d-7796-451c-f6ef-1902bcadec92"
      },
      "outputs": [
        {
          "name": "stdout",
          "output_type": "stream",
          "text": [
            "digite um ano:2016\n",
            "ano é bissexto\n"
          ]
        }
      ],
      "source": [
        "ano = int(input('digite um ano:'))\n",
        "if ano%4==0 and ano%100!=0 or ano%400==0:\n",
        "  print('ano é bissexto')\n",
        "else:\n",
        "  print('não é bissexto')"
      ]
    },
    {
      "cell_type": "markdown",
      "metadata": {
        "id": "5v77xeglyaqO"
      },
      "source": [
        "033: Faça um programa que leia três números e mostre qual é o maior e qual é o menor."
      ]
    },
    {
      "cell_type": "code",
      "execution_count": null,
      "metadata": {
        "colab": {
          "base_uri": "https://localhost:8080/"
        },
        "id": "q4ZQIGssydVJ",
        "outputId": "26506faf-23d8-4de3-8b35-183d81e9ece9"
      },
      "outputs": [
        {
          "name": "stdout",
          "output_type": "stream",
          "text": [
            "digite um numero: 1\n",
            "digite um numero: 2\n",
            "digite um numero: 3\n",
            "o menor numero é: 1\n",
            "o maior numero é 3\n"
          ]
        }
      ],
      "source": [
        "menor = 0\n",
        "a = int(input(\"digite um numero: \"))\n",
        "b = int(input(\"digite um numero: \"))\n",
        "c = int(input(\"digite um numero: \"))\n",
        "menor = a\n",
        "maior = b\n",
        "if menor<b and menor <c:\n",
        "  menor = a\n",
        "elif menor >b:\n",
        "   menor = b\n",
        "   #print(f'o menor numero é: {menor}')\n",
        "if menor >c:\n",
        "    menor = c\n",
        "print(f'o menor numero é: {menor}')\n",
        "if  maior >a and maior >c:\n",
        "  maior = b\n",
        "elif a>maior and a>c:\n",
        "  maior=a\n",
        "elif c>maior and c>a:\n",
        "  maior = c\n",
        "print(f'o maior numero é {maior}')\n",
        "\n"
      ]
    },
    {
      "cell_type": "markdown",
      "metadata": {
        "id": "z6rWzqIPcg2r"
      },
      "source": [
        "34: Escreva um programa que pergunte o salário de um funcionário e calcule o valor do seu aumento. Para salários superiores a R$1250,00, calcule um aumento de 10%. Para os inferiores ou iguais, o aumento é de 15%."
      ]
    },
    {
      "cell_type": "code",
      "execution_count": null,
      "metadata": {
        "colab": {
          "base_uri": "https://localhost:8080/"
        },
        "id": "ldYyr3dhcsWR",
        "outputId": "b446880e-6e77-4847-c957-f9dc840eb2ec"
      },
      "outputs": [
        {
          "name": "stdout",
          "output_type": "stream",
          "text": [
            "digite seu salario: 1250\n",
            "seu salario novo sera de 1437.5\n"
          ]
        }
      ],
      "source": [
        "sal = float(input(\"digite seu salario: \"))\n",
        "if sal>1250:\n",
        "  aumento = sal+(sal*0.1)\n",
        "else:\n",
        "  aumento = sal+(sal*0.15)\n",
        "print(f\"seu salario novo sera de {aumento}\")"
      ]
    },
    {
      "cell_type": "markdown",
      "metadata": {
        "id": "3EWxaDBieNWN"
      },
      "source": [
        " 35 - Desenvolva um programa que leia o comprimento de três retas e diga ao usuário se elas podem ou não formar um triângulo."
      ]
    },
    {
      "cell_type": "code",
      "execution_count": null,
      "metadata": {
        "colab": {
          "base_uri": "https://localhost:8080/"
        },
        "id": "TA_2AOaIePxK",
        "outputId": "d80f7d15-bee2-4c4e-8d2d-fc9737b3f08e"
      },
      "outputs": [
        {
          "name": "stdout",
          "output_type": "stream",
          "text": [
            "digite o lado 1 do traingulo: 2\n",
            "digite o lado 2 do triangulo: 3\n",
            "digite o lado 3 do triangulo: 5\n",
            "as  retas não formam um triangulo. \n"
          ]
        }
      ],
      "source": [
        "a = float(input(\"digite o lado 1 do traingulo: \"))\n",
        "b = float(input(\"digite o lado 2 do triangulo: \"))\n",
        "c= float(input(\"digite o lado 3 do triangulo: \"))\n",
        "if (b-c<a<b+c) and (a-c<b<a+c) and (a-b<c<b+a):\n",
        "  print(\"as retas formam um triangulo!\")\n",
        "else:\n",
        "  print(\"as  retas não formam um triangulo. \")"
      ]
    },
    {
      "cell_type": "markdown",
      "metadata": {
        "id": "wWxDLpB5jpQG"
      },
      "source": [
        "036: Escreva um programa para aprovar o empréstimo bancário para a compra de uma casa. Pergunte o valor da casa, o salário do comprador e em quantos anos ele vai pagar. A prestação mensal não pode exceder 30% do salário ou então o empréstimo será negado."
      ]
    },
    {
      "cell_type": "code",
      "execution_count": null,
      "metadata": {
        "colab": {
          "base_uri": "https://localhost:8080/"
        },
        "id": "TggVacP-o6n0",
        "outputId": "5ccf1a06-7570-440e-cd59-950b5419654e"
      },
      "outputs": [
        {
          "name": "stdout",
          "output_type": "stream",
          "text": [
            "digite o valor do seu salario: 1500\n",
            "digite em quantos anos vc pretende pagar a sua casa: 30\n",
            "digite o valor da casa: 100000\n",
            "emprestimo aprovado, o valor de sua parcela sera de 277.78 reais e vc pode pagar em 30 anos \n"
          ]
        }
      ],
      "source": [
        "sal = float(input(\"digite o valor do seu salario: \"))\n",
        "anos = int(input('digite em quantos anos vc pretende pagar a sua casa: '))\n",
        "casa = float(input(\"digite o valor da casa: \"))\n",
        "parcela = casa/(anos*12)\n",
        "parcela_max = sal*0.3\n",
        "if parcela <= parcela_max:\n",
        "  print(f'emprestimo aprovado, o valor de sua parcela sera de {parcela:.2f} reais e vc pode pagar em {anos} anos ')\n",
        "elif parcela>parcela_max:\n",
        "  print(f' emprestimo negado, o valor da parcela esta acima de 30% do seu salario. ')"
      ]
    },
    {
      "cell_type": "markdown",
      "metadata": {
        "id": "1RhWbYBYrNkX"
      },
      "source": [
        "37: Escreva um programa em Python que leia um número inteiro qualquer e peça para o usuário escolher qual será a base de conversão: 1 para binário, 2 para octal e 3 para hexadecimal."
      ]
    },
    {
      "cell_type": "code",
      "execution_count": null,
      "metadata": {
        "colab": {
          "base_uri": "https://localhost:8080/"
        },
        "id": "t-tuHCGwrO2J",
        "outputId": "58973758-7cb9-434f-f493-5ac8f4372e83"
      },
      "outputs": [
        {
          "name": "stdout",
          "output_type": "stream",
          "text": [
            "digite um numero: 1535\n",
            "=+=+=+=+=+=+=+=+=+=+=+=+=+=+=+=+=+=+=+=+\n",
            "digite 1- conversão para binario 2- conversão para octal 3 - conversão para hexadeximal 2\n",
            "o numero 1535 em sistema octal é 2777\n"
          ]
        }
      ],
      "source": [
        "n = int(input(\"digite um numero: \"))\n",
        "print('=+'*20)\n",
        "conv = int(input(\"digite 1- conversão para binario 2- conversão para octal 3 - conversão para hexadeximal \"))\n",
        "if conv ==1:\n",
        "  print(f'O numero em binario é {bin(n)[2:]}')\n",
        "elif conv ==2:\n",
        "  print(f'o numero {n} em sistema octal é {oct(n)[2:]}')\n",
        "elif conv ==3:\n",
        "  print(f'o numero {n} convertido em hexadeximal é {hex(n)[2:]}')"
      ]
    },
    {
      "cell_type": "markdown",
      "metadata": {
        "id": "YCxzJinXZqR9"
      },
      "source": [
        "38: Escreva um programa que leia dois números inteiros e compare-os. mostrando na tela uma mensagem:\n",
        "- O primeiro valor é maior\n",
        "- O segundo valor é maior\n",
        "- Não existe valor maior, os dois são iguais"
      ]
    },
    {
      "cell_type": "code",
      "execution_count": null,
      "metadata": {
        "colab": {
          "base_uri": "https://localhost:8080/"
        },
        "id": "Yg1bpEX0wjuJ",
        "outputId": "adfb2113-a23d-4266-f767-f1d1dd6ae01c"
      },
      "outputs": [
        {
          "name": "stdout",
          "output_type": "stream",
          "text": [
            "digite um numero: 12\n",
            "digite um numero: 12\n",
            "os dois são iguais\n"
          ]
        }
      ],
      "source": [
        "a = int(input(\"digite um numero: \"))\n",
        "b = int(input(\"digite um numero: \"))\n",
        "if a>b:\n",
        "  print('o primeiro numero e´maior ')\n",
        "elif b>a:\n",
        "  print('o segundo numero é maior')\n",
        "else:\n",
        "  print('os dois são iguais')"
      ]
    },
    {
      "cell_type": "markdown",
      "metadata": {
        "id": "Den2laNMaX_g"
      },
      "source": [
        "Faça um programa que leia o ano de nascimento de um jovem e informe, de acordo com a sua idade, se ele ainda vai se alistar ao serviço militar, se é a hora exata de se alistar ou se já passou do tempo do alistamento. Seu programa também deverá mostrar o tempo que falta ou que passou do prazo.\n",
        "\n"
      ]
    },
    {
      "cell_type": "code",
      "execution_count": null,
      "metadata": {
        "colab": {
          "base_uri": "https://localhost:8080/"
        },
        "id": "sm6gEeRoaaOQ",
        "outputId": "0c7538d8-3267-444e-d956-ed2be68d442f"
      },
      "outputs": [
        {
          "name": "stdout",
          "output_type": "stream",
          "text": [
            "digite seu ano de nascimento: 2016\n",
            "ainda não é hora de se alistar, vc deve se alistar daqui 10 anos em 2034\n"
          ]
        }
      ],
      "source": [
        "ano = int(input(\"digite seu ano de nascimento: \"))\n",
        "atual = 2024\n",
        "idade = atual - ano\n",
        "if idade ==18:\n",
        "  print(\"é hora de se alistar\")\n",
        "elif idade < 18:\n",
        "  print(f'ainda não é hora de se alistar, vc deve se alistar daqui {18-idade} anos em {2024+(18-idade)}')\n",
        "elif idade>18:\n",
        "  print(f' vc esta atrasado,  vc devia ter se alistado a {idade-18} anos atras, va a uma junta militar e se aliste o mais rapido possivel. ')"
      ]
    },
    {
      "cell_type": "markdown",
      "metadata": {
        "id": "W10g3N_ocQXd"
      },
      "source": [
        "40: Crie um programa que leia duas notas de um aluno e calcule sua média, mostrando uma mensagem no final, de acordo com a média atingida:\n",
        "- Média abaixo de 5.0: REPROVADO\n",
        "- Média entre 5.0 e 6.9: RECUPERAÇÃO\n",
        "- Média 7.0 ou superior: APROVADO"
      ]
    },
    {
      "cell_type": "code",
      "execution_count": null,
      "metadata": {
        "colab": {
          "base_uri": "https://localhost:8080/"
        },
        "id": "Ljb9L2pmcRiQ",
        "outputId": "7eac67fe-9a5e-4f74-fae9-912b8abeb8a7"
      },
      "outputs": [
        {
          "name": "stdout",
          "output_type": "stream",
          "text": [
            "digite sua nota: 6\n",
            "digite sua nota: 7\n",
            "vc esta de recuperação\n"
          ]
        }
      ],
      "source": [
        "n1 = float(input(\"digite sua nota: \"))\n",
        "n2 = float(input(\"digite sua nota: \"))\n",
        "med = (n1+n2)/2\n",
        "if med<5:\n",
        "  print('reprovado')\n",
        "elif med >=5.0 and med<=6.9:\n",
        "  print(\"vc esta de recuperação\")\n",
        "elif med >=7:\n",
        "  print(\"vc esta aprovado.\")"
      ]
    },
    {
      "cell_type": "markdown",
      "metadata": {
        "id": "y4ZOrZEBdF7j"
      },
      "source": [
        "41: A Confederação Nacional de Natação precisa de um programa que leia o ano de nascimento de um atleta e mostre sua categoria, de acordo com a idade:\n",
        "- Até 9 anos: MIRIM\n",
        "- Até 14 anos: INFANTIL\n",
        "- Até 19 anos: JÚNIOR\n",
        "- Até 25 anos: SÊNIOR\n",
        "- Acima de 25 anos: MASTER"
      ]
    },
    {
      "cell_type": "code",
      "execution_count": null,
      "metadata": {
        "colab": {
          "base_uri": "https://localhost:8080/"
        },
        "id": "HBseN31adHR-",
        "outputId": "b4ad05a5-f79a-497d-e644-37beb854ce86"
      },
      "outputs": [
        {
          "name": "stdout",
          "output_type": "stream",
          "text": [
            "digite o ano de seu nascimento: 2000\n",
            "categoria senior\n"
          ]
        }
      ],
      "source": [
        "ano = int(input(\"digite o ano de seu nascimento: \"))\n",
        "idade = 2024 - ano\n",
        "if idade <=9:\n",
        "  print(\"categoria mirim\")\n",
        "if 9<idade<=14:\n",
        "  print(\"categoria infantil\")\n",
        "elif 14<idade <=19:\n",
        "  print('categoria junior')\n",
        "elif 19<idade<=25:\n",
        "  print(\"categoria senior\")\n",
        "elif idade>25:\n",
        "  print(\"categoria master\")"
      ]
    },
    {
      "cell_type": "markdown",
      "metadata": {
        "id": "nDhHfFN_eFC5"
      },
      "source": [
        "42: Refaça o DESAFIO 035 dos triângulos, acrescentando o recurso de mostrar que tipo de triângulo será formado:\n",
        "- EQUILÁTERO: todos os lados iguais\n",
        "- ISÓSCELES: dois lados iguais, um diferente\n",
        "- ESCALENO: todos os lados diferentes"
      ]
    },
    {
      "cell_type": "code",
      "execution_count": null,
      "metadata": {
        "colab": {
          "base_uri": "https://localhost:8080/"
        },
        "id": "RVgACxAJdi4q",
        "outputId": "ffc0547b-18e9-4e22-8400-936b29f1efb5"
      },
      "outputs": [
        {
          "name": "stdout",
          "output_type": "stream",
          "text": [
            "digite o valor do lado1 do triangulo: 2\n",
            "digite o valor do lado2 do triangulo: 3\n",
            "digite o valor do lado3 do triangulo: 4\n",
            "os lados atendem as condições de existencia e o triangulo pode existir\n",
            "o triangulo é escaleno\n"
          ]
        }
      ],
      "source": [
        "l1 = float(input(\"digite o valor do lado1 do triangulo: \"))\n",
        "l2 = float(input(\"digite o valor do lado2 do triangulo: \"))\n",
        "l3 = float(input(\"digite o valor do lado3 do triangulo: \"))\n",
        "if (l1<l2+l3) and (l2<l1+l3) and (l3<l2+l1):\n",
        "  print('os lados atendem as condições de existencia e o triangulo pode existir')\n",
        "  if l1==l2==l3:\n",
        "    print('o triangulo é equilatero')\n",
        "  if (l1==l2 and l3!=l1 and l3!=l2) or (l2==l3 and l1!=l2 and l1!=l3) or (l3==l1 and l2!=l3 and l2!=l1):\n",
        "    print('o triangulo é isosceles')\n",
        "  elif l1!=l2!=l3:\n",
        "    print(\"o triangulo é escaleno\")\n",
        "else:\n",
        "  print(\"os lados não atingem as condições de existencia dos triangulos\")\n"
      ]
    },
    {
      "cell_type": "markdown",
      "metadata": {
        "id": "NE-kUBNpgqD1"
      },
      "source": [
        "43: Desenvolva uma lógica que leia o peso e a altura de uma pessoa, calcule seu Índice de Massa Corporal (IMC) e mostre seu status, de acordo com a tabela abaixo:\n",
        "- IMC abaixo de 18,5: Abaixo do Peso\n",
        "- Entre 18,5 e 25: Peso Ideal\n",
        "- 25 até 30: Sobrepeso\n",
        "- 30 até 40: Obesidade\n",
        "- Acima de 40: Obesidade Mórbida"
      ]
    },
    {
      "cell_type": "code",
      "execution_count": null,
      "metadata": {
        "colab": {
          "base_uri": "https://localhost:8080/"
        },
        "id": "gLZ7Y70Fgq9X",
        "outputId": "f72b79ae-5449-4eb5-bdc3-ab3afd083ad9"
      },
      "outputs": [
        {
          "name": "stdout",
          "output_type": "stream",
          "text": [
            "digite o seu peso corporal81\n",
            "digite sua altura: 1.81\n",
            "peso ideal\n"
          ]
        }
      ],
      "source": [
        "kg = float(input(\"digite o seu peso corporal\"))\n",
        "h = float(input(\"digite sua altura: \"))\n",
        "imc = kg/(h**2)\n",
        "if imc<18.5:\n",
        "  print(\"abaixo do peso\")\n",
        "elif imc>=18.5 and imc<=25:\n",
        "  print(\"peso ideal\")\n",
        "elif 25<imc<=30:\n",
        "  print(\"sobrepeso\")\n",
        "elif 30<imc<=40:\n",
        "  print('obesidade')\n",
        "elif imc>40:\n",
        "  print(\"obesidade morbida\")"
      ]
    },
    {
      "cell_type": "markdown",
      "metadata": {
        "id": "08ZQ2ATQh_MH"
      },
      "source": [
        "44: Elabore um programa que calcule o valor a ser pago por um produto, considerando o seu preço normal e condição de pagamento:\n",
        "- à vista dinheiro/cheque: 10% de desconto\n",
        "- à vista no cartão: 5% de desconto\n",
        "- em até 2x no cartão: preço formal\n",
        "- 3x ou mais no cartão: 20% de juros"
      ]
    },
    {
      "cell_type": "code",
      "execution_count": null,
      "metadata": {
        "colab": {
          "base_uri": "https://localhost:8080/"
        },
        "id": "wKjekvzLiAHG",
        "outputId": "abe8441e-bcef-4f5c-ea38-97ea247c2351"
      },
      "outputs": [
        {
          "name": "stdout",
          "output_type": "stream",
          "text": [
            "bem vindo ao nosso sistema de pagamentos escolha a opção de pagamento abaixo: \n",
            "1 - dinheiro \n",
            "2 - debito \n",
            "3 - 2x cartão \n",
            "4 - 3x ou mais no cartão \n",
            "digite a opção de pagamento: 5\n",
            "digite o valor da compra: 12\n",
            "opção de pagamento invalida\n"
          ]
        }
      ],
      "source": [
        "print('''bem vindo ao nosso sistema de pagamentos escolha a opção de pagamento abaixo:\n",
        "1 - dinheiro\n",
        "2 - debito\n",
        "3 - 2x cartão\n",
        "4 - 3x ou mais no cartão ''')\n",
        "pa = int(input(\"digite a opção de pagamento: \"))\n",
        "preco  = float(input(\"digite o valor da compra: \"))\n",
        "if pa ==1:\n",
        "  v = preco - (preco*0.1)\n",
        "  print(f'O valor a ser pago sera de {v} reais')\n",
        "elif pa==2:\n",
        "  v = preco - (preco*0.05)\n",
        "  print(f\"valor a ser pago sera de {v}\")\n",
        "elif pa ==3:\n",
        "  v = preco\n",
        "  print(f\"O valor a ser pago sera de {v}\")\n",
        "elif pa==4:\n",
        "  v = preco +(preco*0.2)\n",
        "  print(f'O valor a ser pago é de {v}')\n",
        "else:\n",
        "  print('opção de pagamento invalida')"
      ]
    },
    {
      "cell_type": "markdown",
      "metadata": {
        "id": "VOJG-7zykROj"
      },
      "source": [
        "45: Crie um programa que faça o computador jogar Jokenpô com você."
      ]
    },
    {
      "cell_type": "code",
      "execution_count": null,
      "metadata": {
        "colab": {
          "base_uri": "https://localhost:8080/"
        },
        "id": "zLwUYgS6kSrL",
        "outputId": "5ca4b744-f128-4838-b140-fe1337973016"
      },
      "outputs": [
        {
          "name": "stdout",
          "output_type": "stream",
          "text": [
            "vamos jogar jokempo\n",
            "1-  pedra \n",
            "2 - papel \n",
            "3 - tesoura \n",
            "digite sua jogada7\n",
            "opção invalida\n"
          ]
        }
      ],
      "source": [
        "import random\n",
        "print('''vamos jogar jokempo\n",
        "1-  pedra\n",
        "2 - papel\n",
        "3 - tesoura ''')\n",
        "jogada = int(input(\"digite sua jogada\"))\n",
        "pc = random.randint(1,3)\n",
        "if jogada==1 and pc ==1:\n",
        "  print('empate')\n",
        "elif jogada==1 and pc==2:\n",
        "  print(\" eu venci\")\n",
        "elif jogada==1 and pc==3:\n",
        "  print(\"vc venceu\")\n",
        "elif jogada==2 and pc==2:\n",
        "  print('empate')\n",
        "elif jogada==2 and pc ==1:\n",
        "  print(\"vc venceu\")\n",
        "elif jogada==2 and pc ==3:\n",
        "  print('pc venceu')\n",
        "elif jogada==3 and pc==3:\n",
        "  print('empate')\n",
        "elif jogada==3 and pc ==2:\n",
        "  print('pc venceu ')\n",
        "elif jogada ==3 and pc ==1:\n",
        "  print(\"vc venceu \")\n",
        "else:\n",
        "  print('opção invalida')"
      ]
    },
    {
      "cell_type": "markdown",
      "metadata": {
        "id": "l0rcoShXmmaJ"
      },
      "source": [
        "46: Faça um programa que mostre na tela uma contagem regressiva para o estouro de fogos de artifício, indo de 10 até 0, com uma pausa de 1 segundo entre eles."
      ]
    },
    {
      "cell_type": "code",
      "execution_count": null,
      "metadata": {
        "colab": {
          "base_uri": "https://localhost:8080/"
        },
        "id": "L9zNUrbqmnS1",
        "outputId": "ac57182f-ed90-4d5f-e515-153d3d475199"
      },
      "outputs": [
        {
          "name": "stdout",
          "output_type": "stream",
          "text": [
            "CONTAGEM REGRESSIVA!!!!\n",
            "10\n",
            "9\n",
            "8\n",
            "7\n",
            "6\n",
            "5\n",
            "4\n",
            "3\n",
            "2\n",
            "1\n",
            "0\n",
            "BOOOOM\n"
          ]
        }
      ],
      "source": [
        "import time\n",
        "print('CONTAGEM REGRESSIVA!!!!')\n",
        "for i in range(10,-1,-1):\n",
        "  print(i)\n",
        "  time.sleep(1)\n",
        "print('BOOOOM')"
      ]
    },
    {
      "cell_type": "markdown",
      "metadata": {
        "id": "6TjHfsYqsPzQ"
      },
      "source": [
        "47: Crie um programa que mostre na tela todos os números pares que estão no intervalo entre 1 e 50."
      ]
    },
    {
      "cell_type": "code",
      "execution_count": null,
      "metadata": {
        "colab": {
          "base_uri": "https://localhost:8080/"
        },
        "id": "9sHFr7KTsQsy",
        "outputId": "86336562-d96e-42a4-a776-2143b97a5f39"
      },
      "outputs": [
        {
          "name": "stdout",
          "output_type": "stream",
          "text": [
            "2\n",
            "4\n",
            "6\n",
            "8\n",
            "10\n",
            "12\n",
            "14\n",
            "16\n",
            "18\n",
            "20\n",
            "22\n",
            "24\n",
            "26\n",
            "28\n",
            "30\n",
            "32\n",
            "34\n",
            "36\n",
            "38\n",
            "40\n",
            "42\n",
            "44\n",
            "46\n",
            "48\n",
            "50\n",
            "a qtd de numeros pares entre 1 e 50 é 25\n"
          ]
        }
      ],
      "source": [
        "cont = 0\n",
        "for i in range(1,51):\n",
        "  if i%2==0:\n",
        "    cont+=1\n",
        "    print(i)\n",
        "print(f'a qtd de numeros pares entre 1 e 50 é {cont}')\n"
      ]
    },
    {
      "cell_type": "markdown",
      "metadata": {
        "id": "FqS9vfS_tKBA"
      },
      "source": [
        "48: Faça um programa que calcule a soma entre todos os números que são múltiplos de três e que se encontram no intervalo de 1 até 500.\n"
      ]
    },
    {
      "cell_type": "code",
      "execution_count": null,
      "metadata": {
        "colab": {
          "base_uri": "https://localhost:8080/"
        },
        "id": "X0WdQa83tSCY",
        "outputId": "982ec4c6-7aa2-42e3-c53d-1eb145451d99"
      },
      "outputs": [
        {
          "name": "stdout",
          "output_type": "stream",
          "text": [
            "a soma de todos os multiplos de 3 no intervalo de 1 a 500 é 41583\n"
          ]
        }
      ],
      "source": [
        "soma =  0\n",
        "for c in range(1,501):\n",
        "  if c%3==0:\n",
        "    soma +=c\n",
        "print(f'a soma de todos os multiplos de 3 no intervalo de 1 a 500 é {soma}')"
      ]
    },
    {
      "cell_type": "markdown",
      "metadata": {
        "id": "hQm_d3rA83ux"
      },
      "source": [
        "49: Refaça o DESAFIO 009, mostrando a tabuada de um número que o usuário escolher, só que agora utilizando um laço for."
      ]
    },
    {
      "cell_type": "code",
      "execution_count": null,
      "metadata": {
        "colab": {
          "base_uri": "https://localhost:8080/"
        },
        "id": "KOdvF64_84aw",
        "outputId": "4e54cd28-1c04-4029-a4e3-7212baa42022"
      },
      "outputs": [
        {
          "name": "stdout",
          "output_type": "stream",
          "text": [
            "digite um numero: 8\n",
            "8x1=8\n",
            "8x2=16\n",
            "8x3=24\n",
            "8x4=32\n",
            "8x5=40\n",
            "8x6=48\n",
            "8x7=56\n",
            "8x8=64\n",
            "8x9=72\n",
            "8x10=80\n"
          ]
        }
      ],
      "source": [
        "n = int(input(\"digite um numero: \"))\n",
        "for c in range(1,11):\n",
        "  print(f'{n}x{c}={n*c}')\n"
      ]
    },
    {
      "cell_type": "markdown",
      "metadata": {
        "id": "mIB7qwuJ9WYZ"
      },
      "source": [
        "50: Desenvolva um programa que leia seis números inteiros e mostre a soma apenas daqueles que forem pares. Se o valor digitado for ímpar, desconsidere-o."
      ]
    },
    {
      "cell_type": "code",
      "execution_count": null,
      "metadata": {
        "colab": {
          "base_uri": "https://localhost:8080/"
        },
        "id": "lHDb2NSb9d2N",
        "outputId": "4fd294cf-34ad-443a-ce13-343eb40c90ca"
      },
      "outputs": [
        {
          "name": "stdout",
          "output_type": "stream",
          "text": [
            "digite um numero: 1\n",
            "digite um numero: 2\n",
            "digite um numero: 3\n",
            "digite um numero: 4\n",
            "digite um numero: 5\n",
            "digite um numero: 6\n",
            "a soma dos numeros pares é 12\n"
          ]
        }
      ],
      "source": [
        "soma = 0\n",
        "for i in range(1,7):\n",
        "  n = int(input(\"digite um numero: \"))\n",
        "  if n%2==0:\n",
        "    soma+=n\n",
        "print(f'a soma dos numeros pares é {soma}')"
      ]
    },
    {
      "cell_type": "markdown",
      "metadata": {
        "id": "idu6Y5YA_XiG"
      },
      "source": [
        "51: Desenvolva um programa que leia o primeiro termo e a razão de uma PA. No final, mostre os 10 primeiros termos dessa progressão."
      ]
    },
    {
      "cell_type": "code",
      "execution_count": null,
      "metadata": {
        "colab": {
          "base_uri": "https://localhost:8080/"
        },
        "id": "ZoM9WbOh_YVX",
        "outputId": "f1596858-f9bd-4c49-a56b-48deb7ec8db1"
      },
      "outputs": [
        {
          "name": "stdout",
          "output_type": "stream",
          "text": [
            "digite o primeiro termo de uma pa: 2\n",
            "digite a razão da pa: 1\n",
            "3\n",
            "4\n",
            "5\n",
            "6\n",
            "7\n",
            "8\n",
            "9\n",
            "10\n",
            "11\n",
            "12\n"
          ]
        }
      ],
      "source": [
        "n = int(input(\"digite o primeiro termo de uma pa: \"))\n",
        "r = int(input(\"digite a razão da pa: \"))\n",
        "for i in range(1,11):\n",
        "  n +=r\n",
        "  print(n)"
      ]
    },
    {
      "cell_type": "markdown",
      "metadata": {
        "id": "BFQfos5RASLQ"
      },
      "source": [
        "52: Faça um programa que leia um número inteiro e diga se ele é ou não um número primo."
      ]
    },
    {
      "cell_type": "code",
      "execution_count": null,
      "metadata": {
        "colab": {
          "base_uri": "https://localhost:8080/"
        },
        "id": "jGmP39BLATNr",
        "outputId": "77c97007-cf5c-46a6-e23f-321fe8694602"
      },
      "outputs": [
        {
          "name": "stdout",
          "output_type": "stream",
          "text": [
            "digite um numero: 543213\n",
            "o numero não é primo pois ele foi divido por 32 numeros \n"
          ]
        }
      ],
      "source": [
        "c=0\n",
        "n = int(input(\"digite um numero: \"))\n",
        "for i in range(1,n+1):\n",
        "  if n%i==0:\n",
        "    c+=1\n",
        "if c>2:\n",
        "    print(f'o numero não é primo pois ele foi divido por {c} numeros ')\n",
        "elif c==2:\n",
        "    print(\"o numero é primo\")\n"
      ]
    },
    {
      "cell_type": "markdown",
      "metadata": {
        "id": "IjaeYVjpkN88"
      },
      "source": [
        "53: Crie um programa que leia uma frase qualquer e diga se ela é um palíndromo, desconsiderando os espaços.\n",
        "\n",
        "Exemplos de palíndromos: APOS A SOPA, A SACADA DA CASA, A TORRE DA DERROTA, O LOBO AMA O BOLO, ANOTARAM A DATA DA MARATONA."
      ]
    },
    {
      "cell_type": "code",
      "execution_count": null,
      "metadata": {
        "colab": {
          "base_uri": "https://localhost:8080/"
        },
        "id": "oZAZOogpkTNw",
        "outputId": "2d2375d2-c9c8-4eb8-94dc-6c1cba1b6723"
      },
      "outputs": [
        {
          "name": "stdout",
          "output_type": "stream",
          "text": [
            "digite uma frase: a torre da derrota apos a sopa a sacada da casa o lobo ama o bolo anotaram a data da maratona \n",
            "a frase não é um palindromo\n"
          ]
        }
      ],
      "source": [
        "frase = str(input(\"digite uma frase: \"))\n",
        "a = frase.replace(' ','')\n",
        "t = (a[::-1])\n",
        "if a==t:\n",
        "  print(\"a frase é um palindromo\")\n",
        "else:\n",
        "  print(\"a frase não é um palindromo\")"
      ]
    },
    {
      "cell_type": "markdown",
      "metadata": {
        "id": "kV2128yOo9Jn"
      },
      "source": [
        "54: Crie um programa que leia o ano de nascimento de sete pessoas. No final, mostre quantas pessoas ainda não atingiram a maioridade e quantas já são maiores.\n"
      ]
    },
    {
      "cell_type": "code",
      "execution_count": null,
      "metadata": {
        "colab": {
          "base_uri": "https://localhost:8080/"
        },
        "id": "dBlbxUuFo953",
        "outputId": "c0a7e343-7cf5-4d9f-c2d7-dd4ab4fc4e7e"
      },
      "outputs": [
        {
          "name": "stdout",
          "output_type": "stream",
          "text": [
            "digite o ano de nascimento: 2019\n",
            "digite o ano de nascimento: 2020\n",
            "digite o ano de nascimento: 2021\n",
            "digite o ano de nascimento: 2023\n",
            "digite o ano de nascimento: 2000\n",
            "digite o ano de nascimento: 2001\n",
            "digite o ano de nascimento: 2017\n",
            "maiores de idade: 2 pessoas \n",
            " menores de idade: 5 pessoas\n"
          ]
        }
      ],
      "source": [
        "maior = 0\n",
        "menor = 0\n",
        "for i in range(1,8):\n",
        "  n = int(input(\"digite o ano de nascimento: \"))\n",
        "  idade =  2024 - n\n",
        "  if idade >=18:\n",
        "    maior +=1\n",
        "  elif idade<18:\n",
        "    menor+=1\n",
        "print(f'maiores de idade: {maior} pessoas \\n menores de idade: {menor} pessoas')\n"
      ]
    },
    {
      "cell_type": "markdown",
      "metadata": {
        "id": "oOm-XtPlsdS4"
      },
      "source": [
        "55) Faça um programa que leia o peso de cinco pessoas. No final, mostre qual foi o maior e o menor peso lidos."
      ]
    },
    {
      "cell_type": "code",
      "execution_count": null,
      "metadata": {
        "colab": {
          "base_uri": "https://localhost:8080/"
        },
        "id": "UIkTSjkQshSH",
        "outputId": "67d73eb4-90f1-4af2-8866-68576cfb946a"
      },
      "outputs": [
        {
          "name": "stdout",
          "output_type": "stream",
          "text": [
            "digite o seu peso em kg: 1\n",
            "digite o seu peso em kg: 2\n",
            "digite o seu peso em kg: 3\n",
            "digite o seu peso em kg: 4\n",
            "digite o seu peso em kg: 5\n",
            " o maior peso lido é: 5.0 kgs \n",
            " menor peso: 1.0 kgs\n"
          ]
        }
      ],
      "source": [
        "menor = 1000\n",
        "maior  =  0\n",
        "for i in range(1,6):\n",
        "   n = float(input(\"digite o seu peso em kg: \"))\n",
        "   if n>maior:\n",
        "    maior=n\n",
        "   if n<menor:\n",
        "    menor = n\n",
        "print(f' o maior peso lido é: {maior} kgs \\n menor peso: {menor} kgs')"
      ]
    },
    {
      "cell_type": "markdown",
      "metadata": {
        "id": "Mh8esJClzfOp"
      },
      "source": [
        "56: Desenvolva um programa que leia o nome, idade e sexo de 4 pessoas. No final do programa, mostre: a média de idade do grupo, qual é o nome do homem mais velho e quantas mulheres têm menos de 20 anos."
      ]
    },
    {
      "cell_type": "code",
      "execution_count": null,
      "metadata": {
        "colab": {
          "base_uri": "https://localhost:8080/"
        },
        "id": "TUjd9QnPy6xw",
        "outputId": "2b9bc3e7-0557-4413-a8e2-8637f0553798"
      },
      "outputs": [
        {
          "name": "stdout",
          "output_type": "stream",
          "text": [
            "digite sua idade24\n",
            "digite seu sexo 1- masculino 2- feminino 3- outro1\n",
            "digite seu nome:matheus\n",
            "digite sua idade28\n",
            "digite seu sexo 1- masculino 2- feminino 3- outro1\n",
            "digite seu nome:lucas\n",
            "digite sua idade56\n",
            "digite seu sexo 1- masculino 2- feminino 3- outro2\n",
            "digite seu nome:marcela\n",
            "digite sua idade34\n",
            "digite seu sexo 1- masculino 2- feminino 3- outro2\n",
            "digite seu nome:julia\n",
            " o grupo é fromado por 2 homens e 2 mulheres, o homem mais velho se chama lucas \n",
            " existem 0 mulheres com menos de 20 anos no grupo e a media das idades é 35.5 anos\n"
          ]
        }
      ],
      "source": [
        "h = 0\n",
        "m=0\n",
        "med=0\n",
        "velho = 0\n",
        "menor = 0\n",
        "for i in range(4):\n",
        "  idade=  int(input(\"digite sua idade\"))\n",
        "  sexo = int(input(\"digite seu sexo 1- masculino 2- feminino 3- outro\"))\n",
        "  nome = str(input('digite seu nome:'))\n",
        "  med +=idade\n",
        "  if sexo==1:\n",
        "    h+=1\n",
        "    if idade>velho:\n",
        "      velho = idade\n",
        "      nome_velho = nome\n",
        "  if sexo ==2:\n",
        "    m+=1\n",
        "    if idade <20:\n",
        "      menor+=1\n",
        "print(f' o grupo é fromado por {h} homens e {m} mulheres, o homem mais velho se chama {nome_velho} \\n existem {menor} mulheres com menos de 20 anos no grupo e a media das idades é {(med/4)} anos')"
      ]
    },
    {
      "cell_type": "markdown",
      "metadata": {
        "id": "nj7Gf5DlBn3X"
      },
      "source": [
        " 57: Faça um programa que leia o sexo de uma pessoa, mas só aceite os valores 'M' ou 'F'. Caso esteja errado, peça a digitação novamente até ter um valor correto."
      ]
    },
    {
      "cell_type": "code",
      "execution_count": null,
      "metadata": {
        "colab": {
          "base_uri": "https://localhost:8080/"
        },
        "id": "H8M4SOa0BoO3",
        "outputId": "0d02f94a-113b-4fd9-ca19-06086cc5fb8f"
      },
      "outputs": [
        {
          "name": "stdout",
          "output_type": "stream",
          "text": [
            "digite seu sexo: M- masculino F-femininom\n",
            "homem\n",
            "digite seu sexo: M- masculino F-femininof\n",
            "mulher\n",
            "digite seu sexo: M- masculino F-femininos\n",
            "sexo invalido\n"
          ]
        }
      ],
      "source": [
        "while True:\n",
        "  s = str(input(\"digite seu sexo: M- masculino F-feminino\")).upper()\n",
        "  if s=='M':\n",
        "    print(\"homem\")\n",
        "  elif s=='F':\n",
        "    print(\"mulher\")\n",
        "  else:\n",
        "    print(\"sexo invalido\")\n",
        "    break"
      ]
    },
    {
      "cell_type": "markdown",
      "metadata": {
        "id": "ldqHJz3wFh6E"
      },
      "source": [
        "58: Melhore o jogo do DESAFIO 028 onde o computador vai \"pensar\" em um número entre 0 e 10. Só que agora o jogador vai tentar adivinhar até acertar, mostrando no final quantos palpites foram necessários para vencer.\n"
      ]
    },
    {
      "cell_type": "code",
      "execution_count": null,
      "metadata": {
        "colab": {
          "base_uri": "https://localhost:8080/"
        },
        "id": "HSB0F__SFi9E",
        "outputId": "5fb0b161-967f-4034-cf5c-f4dba438002f"
      },
      "outputs": [
        {
          "name": "stdout",
          "output_type": "stream",
          "text": [
            "Sou o seu computador, acabei de pensar em um numero entre 0 e 10\n",
            "digite o numero que o computador pensou entre 0 e 10: 4\n",
            "digite o numero que o computador pensou entre 0 e 10: 6\n",
            "digite o numero que o computador pensou entre 0 e 10: 8\n",
            "digite o numero que o computador pensou entre 0 e 10: 2\n",
            "digite o numero que o computador pensou entre 0 e 10: 1\n",
            "digite o numero que o computador pensou entre 0 e 10: 3\n",
            "digite o numero que o computador pensou entre 0 e 10: 10\n",
            "digite o numero que o computador pensou entre 0 e 10: 0\n",
            "digite o numero que o computador pensou entre 0 e 10: 9\n",
            "digite o numero que o computador pensou entre 0 e 10: 7\n",
            "vc levou 10 tentativas para acertar o numero que o computador pensou, o numero por ele pensado é 7\n"
          ]
        }
      ],
      "source": [
        "import random\n",
        "print(\"Sou o seu computador, acabei de pensar em um numero entre 0 e 10\")\n",
        "p = random.randint(0,10)\n",
        "c =0\n",
        "while n!=p:\n",
        "  n =int(input(\"digite o numero que o computador pensou entre 0 e 10: \"))\n",
        "  c+=1\n",
        "  if n==p:\n",
        "    break\n",
        "print(f'vc levou {c} tentativas para acertar o numero que o computador pensou, o numero por ele pensado é {p}')"
      ]
    },
    {
      "cell_type": "markdown",
      "metadata": {
        "id": "LchOgTC4H_ic"
      },
      "source": [
        "59: Crie um programa que leia dois valores e mostre um menu na tela:\n",
        "[ 1 ] somar\n",
        "[ 2 ] multiplicar\n",
        "[ 3 ] maior\n",
        "[ 4 ] novos números\n",
        "[ 5 ] sair do programa\n",
        "Seu programa deverá realizar a operação solicitada em cada caso."
      ]
    },
    {
      "cell_type": "code",
      "execution_count": null,
      "metadata": {
        "colab": {
          "background_save": true,
          "base_uri": "https://localhost:8080/"
        },
        "id": "ewqDbJ6xIAvE",
        "outputId": "429442c0-e59c-415d-b930-4f18e9f87a7d"
      },
      "outputs": [
        {
          "name": "stdout",
          "output_type": "stream",
          "text": [
            "o maior numero é3\n",
            "multiplicção =2x4x8=3072\n"
          ]
        }
      ],
      "source": [
        "numeros = []\n",
        "c= 0\n",
        "mult = 1\n",
        "while True:\n",
        "  n1 = int(input(\"digite um nuemro: \"))\n",
        "  n2 = int(input(\"digite um  numero: \"))\n",
        "  menu = int(input('''O QUE VC QUER FAZER?\n",
        "\n",
        "  [1] SOMAR\n",
        "  [2] MULTIPLICAR\n",
        "  [3] MAIOR\n",
        "  [4] NOVOS NUMEROS\n",
        "  [5] SAIR '''))\n",
        "  numeros.append(n1)\n",
        "  numeros.append(n2)\n",
        "  if menu==1:\n",
        "    c = n1+n2\n",
        "\n",
        "    print(f'soma={n1}+{n2}={c}')\n",
        "\n",
        "  elif menu==2:\n",
        "    mult = n1*n2\n",
        "\n",
        "    print(f'multiplicação: {n1}x{n2}={(mult)}')\n",
        "  elif menu==3:\n",
        "\n",
        "      print(f'o maior numero é {max(numeros)}')\n",
        "\n",
        "\n",
        "  elif menu==4:\n",
        "    n = int(input(\"digite um numero: \"))\n",
        "    menu = int(input('''O QUE VC QUER FAZER?\n",
        "\n",
        "  [1] SOMAR\n",
        "  [2] MULTIPLICAR\n",
        "  [3] MAIOR\n",
        "  [4] NOVOS NUMEROS\n",
        "  [5] SAIR '''))\n",
        "    numeros.append(n)\n",
        "    if menu==1:\n",
        "      for i in numeros:\n",
        "        c+=i\n",
        "      print(f'soma = {n1}+{n2}+{n}={c}')\n",
        "    elif menu==2:\n",
        "        for i in numeros:\n",
        "          mult*=i\n",
        "        print(f'multiplicção ={n1}x{n2}x{n}= {mult}')\n",
        "    elif menu==3:\n",
        "      print(f'o maior numero é {max(numeros)}')\n",
        "\n",
        "\n",
        "  elif menu==5:\n",
        "    print('programa encerrado')\n",
        "    break\n",
        "  elif menu>5:\n",
        "    print('opção invalida')\n",
        "\n",
        "\n",
        "\n"
      ]
    },
    {
      "cell_type": "markdown",
      "metadata": {
        "id": "VVlTD9QaKK3G"
      },
      "source": [
        "60: Faça um programa que leia um número qualquer e mostre o seu fatorial.\n",
        "\n",
        "Ex: 5! = 5 x 4 x 3 x 2 x 1 = 120"
      ]
    },
    {
      "cell_type": "code",
      "execution_count": null,
      "metadata": {
        "colab": {
          "base_uri": "https://localhost:8080/"
        },
        "id": "bU6CW7hawJgl",
        "outputId": "35f74e9b-0017-4903-ce8d-34209d780111"
      },
      "outputs": [
        {
          "name": "stdout",
          "output_type": "stream",
          "text": [
            "digite um numero: 6\n",
            "o fatorial de 6 é 720\n"
          ]
        }
      ],
      "source": [
        "n = int(input('digite um numero: '))\n",
        "c =1\n",
        "for i in range(1,n+1):\n",
        "  c*=i\n",
        "print(f'o fatorial de {n} é {c}')"
      ]
    },
    {
      "cell_type": "markdown",
      "metadata": {
        "id": "g0YAHAKKVuN8"
      },
      "source": [
        "usando while"
      ]
    },
    {
      "cell_type": "code",
      "execution_count": null,
      "metadata": {
        "colab": {
          "base_uri": "https://localhost:8080/"
        },
        "id": "GrLyVwrnVwNC",
        "outputId": "764f9086-16dd-44f9-d878-0402454669df"
      },
      "outputs": [
        {
          "name": "stdout",
          "output_type": "stream",
          "text": [
            "digite um numero: 5\n",
            "o fatorial de 5: 120\n"
          ]
        }
      ],
      "source": [
        "n = int(input('digite um numero: '))\n",
        "c =1\n",
        "soma = 1\n",
        "somaf=1\n",
        "while c<=n:\n",
        "  soma =c*1 # soma sempre sera atualizada para um novo numero pois c sera atualizado em +1 ate que c seja igual a n\n",
        "  c+=1\n",
        "  somaf *=soma  # soma fimal sempre sera multiplicada pelo novo valor de soma ate que c==10\n",
        "print(f'o fatorial de {n}: {somaf}')\n"
      ]
    },
    {
      "cell_type": "markdown",
      "metadata": {
        "id": "qwroWBRJKwSS"
      },
      "source": [
        "61: Refaça o DESAFIO 051, lendo o primeiro termo e a razão de uma PA, mostrando os 10 primeiros termos da progressão usando a estrutura while."
      ]
    },
    {
      "cell_type": "code",
      "execution_count": null,
      "metadata": {
        "colab": {
          "base_uri": "https://localhost:8080/"
        },
        "id": "w3l-GZNhKxYA",
        "outputId": "f6450cbe-9d64-4852-dee5-4c908b0ce04b"
      },
      "outputs": [
        {
          "name": "stdout",
          "output_type": "stream",
          "text": [
            "digite o primeiro termo da pa:2\n",
            "digite a razão da pa: 2\n",
            "termo0=4\n",
            "termo1=6\n",
            "termo2=8\n",
            "termo3=10\n",
            "termo4=12\n",
            "termo5=14\n",
            "termo6=16\n",
            "termo7=18\n",
            "termo8=20\n",
            "termo9=22\n",
            "termo10=24\n"
          ]
        }
      ],
      "source": [
        "c= 0\n",
        "n = int(input(\"digite o primeiro termo da pa:\"))\n",
        "r = int(input(\"digite a razão da pa: \"))\n",
        "\n",
        "while True:\n",
        "  if c<=10:\n",
        "    n+=r\n",
        "    print(f'termo{c}={n}')\n",
        "    c+=1\n",
        "  else:\n",
        "    break\n"
      ]
    },
    {
      "cell_type": "markdown",
      "metadata": {
        "id": "9552ARHmZQWw"
      },
      "source": [
        "62- perguntando para o usuário se ele quer mostrar mais alguns termos. O programa encerrará quando ele disser que quer mostrar 0 termos."
      ]
    },
    {
      "cell_type": "code",
      "execution_count": null,
      "metadata": {
        "colab": {
          "base_uri": "https://localhost:8080/",
          "height": 662
        },
        "id": "R7KOKi9rZRO7",
        "outputId": "de1ba9ef-5ba9-4a42-fae6-e309e82e01d1"
      },
      "outputs": [
        {
          "name": "stdout",
          "output_type": "stream",
          "text": [
            "termo1=5\n",
            "termo2=7\n",
            "termo3=9\n",
            "termo4=11\n",
            "termo5=13\n",
            "termo6=15\n",
            "termo7=17\n",
            "termo8=19\n",
            "termo9=21\n",
            "termo10=23\n",
            "termo10=25\n",
            "termo11=27\n",
            "termo12=29\n",
            "termo13=31\n",
            "termo14=33\n",
            "termo15=35\n",
            "termo16=37\n",
            "termo17=39\n",
            "termo18=41\n",
            "termo19=43\n",
            "termo20=45\n",
            "termo21=47\n",
            "termo22=49\n",
            "termo23=51\n",
            "termo24=53\n",
            "encerrado\n"
          ]
        },
        {
          "ename": "KeyboardInterrupt",
          "evalue": "",
          "output_type": "error",
          "traceback": [
            "\u001b[0;31m---------------------------------------------------------------------------\u001b[0m",
            "\u001b[0;31mKeyboardInterrupt\u001b[0m                         Traceback (most recent call last)",
            "\u001b[0;32m<ipython-input-9-5b6ec65f52c6>\u001b[0m in \u001b[0;36m<cell line: 4>\u001b[0;34m()\u001b[0m\n\u001b[1;32m      3\u001b[0m \u001b[0mr\u001b[0m \u001b[0;34m=\u001b[0m \u001b[0mint\u001b[0m\u001b[0;34m(\u001b[0m\u001b[0minput\u001b[0m\u001b[0;34m(\u001b[0m\u001b[0;34m\"digite a razão da pa: \"\u001b[0m\u001b[0;34m)\u001b[0m\u001b[0;34m)\u001b[0m\u001b[0;34m\u001b[0m\u001b[0;34m\u001b[0m\u001b[0m\n\u001b[1;32m      4\u001b[0m \u001b[0;32mwhile\u001b[0m \u001b[0;32mTrue\u001b[0m\u001b[0;34m:\u001b[0m\u001b[0;34m\u001b[0m\u001b[0;34m\u001b[0m\u001b[0m\n\u001b[0;32m----> 5\u001b[0;31m   \u001b[0;32mif\u001b[0m \u001b[0mc\u001b[0m\u001b[0;34m<=\u001b[0m\u001b[0;36m10\u001b[0m\u001b[0;34m:\u001b[0m\u001b[0;34m\u001b[0m\u001b[0;34m\u001b[0m\u001b[0m\n\u001b[0m\u001b[1;32m      6\u001b[0m     \u001b[0mn\u001b[0m\u001b[0;34m+=\u001b[0m\u001b[0mr\u001b[0m\u001b[0;34m\u001b[0m\u001b[0;34m\u001b[0m\u001b[0m\n\u001b[1;32m      7\u001b[0m     \u001b[0mc\u001b[0m\u001b[0;34m+=\u001b[0m\u001b[0;36m1\u001b[0m\u001b[0;34m\u001b[0m\u001b[0;34m\u001b[0m\u001b[0m\n",
            "\u001b[0;31mKeyboardInterrupt\u001b[0m: "
          ]
        }
      ],
      "source": [
        "c= 0\n",
        "n = int(input(\"digite o primeiro termo da pa: \"))\n",
        "r = int(input(\"digite a razão da pa: \"))\n",
        "while True:\n",
        "  if c<=10:\n",
        "    n+=r\n",
        "    c+=1\n",
        "    print(f'termo{c}={n}')\n",
        "  if c==10:\n",
        "    while True:\n",
        "\n",
        "      op =int(input(\"digite quantos termos a mais vc deseja ver desta PA:\"))\n",
        "      if op!=0:\n",
        "        for i in range(c,(c+op)+1):\n",
        "          n+=r\n",
        "          print(f'termo{i}={n}')\n",
        "          c+=1\n",
        "      if op==0:\n",
        "        print(\"encerrado\")\n",
        "        break\n"
      ]
    },
    {
      "cell_type": "markdown",
      "metadata": {
        "id": "0JxzWoPbd9CJ"
      },
      "source": [
        "64- Escreva um programa que leia um número N inteiro qualquer e mostre na tela os N primeiros elementos de uma Sequência de Fibonacci.\n",
        "\n",
        "Ex: 0 - 1 - 1 - 2 - 3 - 5 - 8"
      ]
    },
    {
      "cell_type": "code",
      "execution_count": null,
      "metadata": {
        "colab": {
          "base_uri": "https://localhost:8080/"
        },
        "id": "hMSA0873d7ze",
        "outputId": "fc100e0b-5bbe-4246-967f-eb384a63c681"
      },
      "outputs": [
        {
          "name": "stdout",
          "output_type": "stream",
          "text": [
            "digite quantos termos v quer mostrar: 23\n",
            "0 1 - 1-2-3-5-8-13-21-34-55-89-144-233-377-610-987-1597-2584-4181-6765-10946-17711-fim\n"
          ]
        }
      ],
      "source": [
        "\n",
        "n = int(input(\"digite quantos termos v quer mostrar: \"))\n",
        "t1 =0\n",
        "t2 =1\n",
        "\n",
        "print(t1,t2, end=' - ')\n",
        "for i in range(3,n+1):\n",
        "  t3=t1+t2\n",
        "  print(t3,end='-')\n",
        "  t1=t2\n",
        "  t2=t3\n",
        "print('fim')\n"
      ]
    },
    {
      "cell_type": "markdown",
      "metadata": {
        "id": "bFSijyM8oCU3"
      },
      "source": [
        "64: Crie um programa que leia vários números inteiros pelo teclado. O programa só vai parar quando o usuário digitar o valor 999, que é a condição de parada. No final, mostre quantos números foram digitados e qual foi a soma entre eles (desconsiderando o flag)."
      ]
    },
    {
      "cell_type": "code",
      "execution_count": null,
      "metadata": {
        "colab": {
          "base_uri": "https://localhost:8080/"
        },
        "id": "xjTKADhIfSdS",
        "outputId": "557bd1f8-2a6b-462d-f767-5150bb5e00b8"
      },
      "outputs": [
        {
          "name": "stdout",
          "output_type": "stream",
          "text": [
            "digite um numero: 2\n",
            "digite um numero: 2\n",
            "digite um numero: 2\n",
            "digite um numero: 2\n",
            "digite um numero: 999\n",
            "VC digitou 4 numeros, e a soma dos numeros digitados e´de 8\n",
            "encerrado\n"
          ]
        }
      ],
      "source": [
        "\n",
        "c,soma,n =0,0,0\n",
        "n = int(input(\"digite um numero: \"))\n",
        "while n!=999:\n",
        "  c+=1\n",
        "  soma+=n\n",
        "  n = int(input(\"digite um numero: \"))\n",
        "print(f'VC digitou {c} numeros, e a soma dos numeros digitados e´de {soma}')\n",
        "print(\"encerrado\")"
      ]
    },
    {
      "cell_type": "markdown",
      "metadata": {
        "id": "cLVzX7ADoFKS"
      },
      "source": [
        "65: Crie um programa que leia vários números inteiros pelo teclado. No final da execução, mostre a média entre todos os valores e qual foi o maior e o menor valores lidos. O programa deve perguntar ao usuário se ele quer ou não continuar a digitar valores."
      ]
    },
    {
      "cell_type": "code",
      "execution_count": null,
      "metadata": {
        "colab": {
          "base_uri": "https://localhost:8080/"
        },
        "id": "jOazCuN29Zo_",
        "outputId": "2c43278c-e013-4c97-d678-2fe4daafe5df"
      },
      "outputs": [
        {
          "name": "stdout",
          "output_type": "stream",
          "text": [
            "digite um numero: 12\n",
            "digite 1 para continuar e 0 para sair: 1\n",
            "digite um numero: 11\n",
            "digite 1 para continuar e 0 para sair: 0\n",
            "vc digitou  2 numeros, a media deles é 11.5\n",
            "o maior numero é 12\n",
            "o menor valor pe 11\n"
          ]
        }
      ],
      "source": [
        "op = 0\n",
        "c=0\n",
        "soma=0\n",
        "maior, menor =0,0\n",
        "l = []\n",
        "while True:\n",
        "  n = int(input(\"digite um numero: \"))\n",
        "  l.append(n)\n",
        "  c+=1\n",
        "  soma+=n\n",
        "  op = int(input(\"digite 1 para continuar e 0 para sair: \"))\n",
        "  if op==0:\n",
        "    break\n",
        "print(f'vc digitou  {c} numeros, a media deles é {soma/c}')\n",
        "print(f'o maior numero é {max(l)}')\n",
        "print(f'o menor valor é {min(l)}')\n"
      ]
    },
    {
      "cell_type": "markdown",
      "metadata": {
        "id": "TwAh2i9XAnvO"
      },
      "source": [
        " 66 - Crie um programa que leia números inteiros pelo teclado. O programa só vai parar quando o usuário digitar o valor 999, que é a condição de parada. No final, mostre quantos números foram digitados e qual foi a soma entre elas (desconsiderando o flag).\n"
      ]
    },
    {
      "cell_type": "code",
      "execution_count": null,
      "metadata": {
        "colab": {
          "base_uri": "https://localhost:8080/"
        },
        "id": "KeIXH8qeAxQe",
        "outputId": "35ce2a02-c783-46a8-e2e4-0d8da722a802"
      },
      "outputs": [
        {
          "name": "stdout",
          "output_type": "stream",
          "text": [
            "digite um  numero: 1\n",
            "digite um  numero: 2\n",
            "digite um  numero: 3\n",
            "digite um  numero: 4\n",
            "digite um  numero: 5\n",
            "digite um  numero: 999\n",
            " vc precisou digitar 5 numeros ate digitar a condição de parada. a soma destes numeros é 15 \n"
          ]
        }
      ],
      "source": [
        "c,soma=0,0\n",
        "while True:\n",
        "  n = int(input(\"digite um  numero: \"))\n",
        "  if n==999:\n",
        "    c+=1\n",
        "    print(f' vc precisou digitar {c-1} numeros ate digitar a condição de parada. a soma destes numeros é {soma} ')\n",
        "    break\n",
        "  if n!=999:\n",
        "    c+=1\n",
        "    soma+=n\n"
      ]
    },
    {
      "cell_type": "markdown",
      "metadata": {
        "id": "8wRp5NKDDCrb"
      },
      "source": [
        "67: Faça um programa que mostre a tabuada de vários números, um de cada vez, para cada valor digitado pelo usuário. O programa será interrompido quando o número solicitado for negativo."
      ]
    },
    {
      "cell_type": "code",
      "execution_count": null,
      "metadata": {
        "colab": {
          "base_uri": "https://localhost:8080/"
        },
        "id": "lcaNVpQ1DE78",
        "outputId": "5fc97420-9085-4c9d-a33e-959a46903225"
      },
      "outputs": [
        {
          "name": "stdout",
          "output_type": "stream",
          "text": [
            "digite um numero: -2\n",
            " vc digitou 0 numeros ate digitar um numero negativo. a soma destes numeros é 0\n",
            "saindo...\n"
          ]
        }
      ],
      "source": [
        "n=0\n",
        "c=0\n",
        "soma=0\n",
        "while True:\n",
        "  n= int(input(\"digite um numero: \"))\n",
        "  if n>=0:\n",
        "    c+=1\n",
        "    soma+=n\n",
        "    for i in range(1,11):\n",
        "      print(f'{n}x{i}={n*i}')\n",
        "\n",
        "  if n<0:\n",
        "    break\n",
        "print(f' vc digitou {c} numeros ate digitar um numero negativo. a soma destes numeros é {soma}')\n",
        "print(\"saindo...\")\n",
        "# basicamente esse codigo estabelece uma condição de parada quando o usuario digitar um  numero negativo\n",
        "#o while true estabelece que enquanto ele for verdadeiro ele executara o comando indefinidamente.\n",
        "# a unica maneira de parar o laço while true é criar uma condição dentro dele com o comando break\n"
      ]
    },
    {
      "cell_type": "markdown",
      "metadata": {
        "id": "915yQklIvJdt"
      },
      "source": [
        "68: Faça um programa que jogue par ou ímpar com o computador. O jogo só será interrompido quando o jogador perder, mostrando o total de vitórias consecutivas que ele conquistou no final do jogo."
      ]
    },
    {
      "cell_type": "code",
      "execution_count": null,
      "metadata": {
        "colab": {
          "base_uri": "https://localhost:8080/"
        },
        "id": "c3g3ZkLvvKXY",
        "outputId": "e98fc08c-fd9b-42b7-83b9-f56f9f9e71da"
      },
      "outputs": [
        {
          "name": "stdout",
          "output_type": "stream",
          "text": [
            "digite um numero: 2\n",
            "digite um numero: 4\n",
            "digite um numero: 3\n",
            "digite um numero: 1\n",
            "digite um numero: 1\n",
            "digite um numero: 1\n",
            "vc jogou 6 e venceu 5 vezes\n"
          ]
        }
      ],
      "source": [
        "j,computador=0,0\n",
        "import random\n",
        "soma,c,v =0,0,0\n",
        "while True:\n",
        "  n = int(input(\"digite um numero: \"))\n",
        "  a = random.randint(0,100)\n",
        "  soma=n+a\n",
        "  if soma%2==0:\n",
        "    v+=1\n",
        "    c+=1\n",
        "  else:\n",
        "    c+=1\n",
        "    break\n",
        "print(f'vc jogou {c} e venceu {v} vezes')\n",
        "\n",
        "\n"
      ]
    },
    {
      "cell_type": "markdown",
      "metadata": {
        "id": "YDpuywj8yC5z"
      },
      "source": [
        "69: Crie um programa que leia a idade e o sexo de várias pessoas. A cada pessoa cadastrada, o programa deverá perguntar se o usuário quer ou não continuar. No final, mostre:\n",
        "A) quantas pessoas tem mais de 18 anos.\n",
        "B) quantos homens foram cadastrados.\n",
        "C) quantas mulheres tem menos de 20 anos."
      ]
    },
    {
      "cell_type": "code",
      "execution_count": null,
      "metadata": {
        "colab": {
          "base_uri": "https://localhost:8080/"
        },
        "id": "JRbpVi-JyEPU",
        "outputId": "5a1038c3-b890-4db9-81fd-2a2d483d63c6"
      },
      "outputs": [
        {
          "name": "stdout",
          "output_type": "stream",
          "text": [
            "digite sua idade: 23\n",
            "digite seu sexo (1)- homem  (2)- mulher: 1\n",
            "deseja continuar: (1)sim (2)não1\n",
            "digite sua idade: 24\n",
            "digite seu sexo (1)- homem  (2)- mulher: 2\n",
            "deseja continuar: (1)sim (2)não1\n",
            "digite sua idade: 12\n",
            "digite seu sexo (1)- homem  (2)- mulher: 2\n",
            "deseja continuar: (1)sim (2)não1\n",
            "digite sua idade: 16\n",
            "digite seu sexo (1)- homem  (2)- mulher: 2\n",
            "deseja continuar: (1)sim (2)não1\n",
            "digite sua idade: 24\n",
            "digite seu sexo (1)- homem  (2)- mulher: 1\n",
            "deseja continuar: (1)sim (2)não1\n",
            "digite sua idade: 19\n",
            "digite seu sexo (1)- homem  (2)- mulher: 2\n",
            "deseja continuar: (1)sim (2)não2\n",
            "pessoas maiores de 18: 4\n",
            "homens: 2\n",
            "mulheres menores de 20: 3\n"
          ]
        }
      ],
      "source": [
        "maioridade,homens,mulheres20=0,0,0\n",
        "while True:\n",
        "  idade = int(input(\"digite sua idade: \"))\n",
        "  sexo = int(input(\"digite seu sexo (1)- homem  (2)- mulher: \"))\n",
        "\n",
        "  if idade>18:\n",
        "    maioridade+=1\n",
        "  if sexo==1:\n",
        "    homens+=1\n",
        "  if sexo==2:\n",
        "    if idade<20:\n",
        "      mulheres20+=1\n",
        "  c = int(input(\"deseja continuar: (1)sim (2)não\"))\n",
        "  if c==2:\n",
        "    break\n",
        "print(f'pessoas maiores de 18: {maioridade}')\n",
        "print(f'homens: {homens}')\n",
        "print(f'mulheres menores de 20: {mulheres20}')"
      ]
    },
    {
      "cell_type": "markdown",
      "metadata": {
        "id": "RzwaI9v_0Hhh"
      },
      "source": [
        "70: Crie um programa que leia o nome e o preço de vários produtos. O programa deverá perguntar se o usuário vai continuar ou não. No final, mostre:\n",
        "A) qual é o total gasto na compra.\n",
        "B) quantos produtos custam mais de R$1000.\n",
        "C) qual é o nome do produto mais barato."
      ]
    },
    {
      "cell_type": "code",
      "execution_count": null,
      "metadata": {
        "id": "FTLR2Asd0Gql"
      },
      "outputs": [],
      "source": [
        "s=0\n",
        "while True:\n",
        "  nome =str(input(\"digite o  numero do produto\"))\n",
        "  preco = float(input(\"digite o preço do produto: \"))\n",
        "  c =int(input(\"deseja continuar: (1)sim (2)não\"))\n",
        "  if c==2:\n",
        "    break\n"
      ]
    },
    {
      "cell_type": "markdown",
      "metadata": {
        "id": "IoUCcLBe6GOb"
      },
      "source": [
        "71: Crie um programa que simule o funcionamento de um caixa eletrônico. No início, pergunte ao usuário qual será o valor a ser sacado (número inteiro) e o programa vai informar quantas cédulas de cada valor serão entregues.\n",
        "OBS: considere que o caixa possui cédulas de R$50, R$20, R$10 e R$1."
      ]
    },
    {
      "cell_type": "code",
      "execution_count": null,
      "metadata": {
        "colab": {
          "base_uri": "https://localhost:8080/"
        },
        "id": "Z6Jve63u6Hlc",
        "outputId": "e53473ae-e1bf-4b52-8b96-1142072a3a0f"
      },
      "outputs": [
        {
          "name": "stdout",
          "output_type": "stream",
          "text": [
            "digite o valor que vc quer sacar: 1327\n",
            "valor sacado: 1327 \n",
            " notas de 50: 26 \n",
            " nota de 20: 1\n",
            " nota de 10: 0 \n",
            " nota de 1:7\n"
          ]
        }
      ],
      "source": [
        "n20 = 0\n",
        "n10 = 0\n",
        "n1 = 0\n",
        "n50 = 0\n",
        "va = int(input(\"digite o valor que vc quer sacar: \"))\n",
        "new =0\n",
        "new =va\n",
        "while va>1:\n",
        "  if va>50 or va==50:\n",
        "    va = va -50\n",
        "    n50+=1\n",
        "  elif va>=20:\n",
        "    va-=20\n",
        "    n20+=1\n",
        "  elif va>=10:\n",
        "    va-=10\n",
        "    n10+=1\n",
        "  elif va>=1:\n",
        "    va-=1\n",
        "    n1+=1\n",
        "  elif va<1:\n",
        "    break\n",
        "print(f'valor sacado: {new} \\n notas de 50: {n50} \\n nota de 20: {n20}\\n nota de 10: {n10} \\n nota de 1:{n1+1}')\n",
        "\n",
        "\n"
      ]
    },
    {
      "cell_type": "markdown",
      "metadata": {
        "id": "7cmYeshmRjub"
      },
      "source": [
        "# TUPLAS:\n",
        "coleções de dados compostas e imutaveis\n"
      ]
    },
    {
      "cell_type": "markdown",
      "metadata": {
        "id": "J2tomYzGZHAd"
      },
      "source": [
        "72 - Crie um programa que tenha uma dupla totalmente preenchida com uma contagem por extenso, de zero até vinte. Seu programa deverá ler um número pelo teclado (entre 0 e 20) e mostrá-lo por extenso."
      ]
    },
    {
      "cell_type": "code",
      "execution_count": null,
      "metadata": {
        "colab": {
          "base_uri": "https://localhost:8080/"
        },
        "id": "RMZzs1VeRw-2",
        "outputId": "647e72c5-ee24-40cb-fda1-b3a31298cca6"
      },
      "outputs": [
        {
          "name": "stdout",
          "output_type": "stream",
          "text": [
            "digite um numero entre 0 a 20: 122\n",
            "numero invalido\n",
            "digite um numero entre 0 a 20: 211\n",
            "numero invalido\n",
            "digite um numero entre 0 a 20: 1\n",
            "vc digitou o numero um\n"
          ]
        }
      ],
      "source": [
        "n = 'zero','um','dois','tres','quatro','cinco','seis','sete','oito','nove','dez','onze','doze','treze','quatorze','quinze','dezesseis','dezessete','dezoito','dezenove','vinte'\n",
        "while True:\n",
        "  num = int(input(\"digite um numero entre 0 a 20: \"))\n",
        "  if 0<=num<=20:\n",
        "    print(f'vc digitou o numero {n[num]}')\n",
        "    break\n",
        "  if num  not in range(0,21):\n",
        "    print('numero invalido')\n"
      ]
    },
    {
      "cell_type": "markdown",
      "metadata": {
        "id": "n-vcyrbsEFj0"
      },
      "source": [
        "73: Crie uma tupla preenchida com os 20 primeiros colocados da Tabela do Campeonato Brasileiro de Futebol, na ordem de colocação. Depois mostre:\n",
        "a) Os 5 primeiros times.\n",
        "b) Os últimos 4 colocados.\n",
        "c) Times em ordem alfabética.\n",
        "d) Em que posição está o time da Chapecoense."
      ]
    },
    {
      "cell_type": "code",
      "execution_count": null,
      "metadata": {
        "colab": {
          "base_uri": "https://localhost:8080/"
        },
        "id": "gYZpzWiYbtxt",
        "outputId": "cffa5368-bc50-4965-aec7-13d66d08340e"
      },
      "outputs": [
        {
          "name": "stdout",
          "output_type": "stream",
          "text": [
            "os 5 primeiros times são:('Athletico-PR', 'Flamengo', 'Botafogo', 'São Paulo', 'Bahia')\n",
            "os 4 ultimos times são: ('Fluminense', 'Vitória', 'Santos', 'Goiás')\n",
            "times em ordem alfabética: ['Athletico-PR', 'Atlético-GO', 'Atlético-MG', 'Bahia', 'Botafogo', 'Corinthians', 'Cruzeiro', 'Cuiabá', 'Flamengo', 'Fluminense', 'Fortaleza', 'Goiás', 'Grêmio', 'Internacional', 'Palmeiras', 'Red Bull Bragantino', 'Santos', 'São Paulo', 'Vasco da Gama', 'Vitória', 'chapecoence']\n",
            "chapecoence esta na 12 posição.\n"
          ]
        }
      ],
      "source": [
        "times_brasileirao_2024 = (\n",
        "    \"Athletico-PR\", \"Flamengo\", \"Botafogo\", \"São Paulo\", \"Bahia\",\n",
        "    \"Cruzeiro\", \"Atlético-MG\", \"Red Bull Bragantino\", \"Palmeiras\",\n",
        "    \"Internacional\", \"Fortaleza\", \"Vasco da Gama\",'chapecoence', \"Grêmio\",\n",
        "    \"Atlético-GO\", \"Cuiabá\", \"Corinthians\", \"Fluminense\", \"Vitória\",\n",
        "    \"Santos\", \"Goiás\"\n",
        ")\n",
        "print(f'os 5 primeiros times são:{times_brasileirao_2024[0:5]}')\n",
        "print(f'os 4 ultimos times são: {times_brasileirao_2024[-4:]}')\n",
        "print(f'times em ordem alfabética: {sorted(times_brasileirao_2024)}')\n",
        "a = times_brasileirao_2024.index('chapecoence')\n",
        "print(f'chapecoence esta na {a} posição.')"
      ]
    },
    {
      "cell_type": "markdown",
      "metadata": {
        "id": "eSrqRPifSa0L"
      },
      "source": [
        "74: Crie um programa que vai gerar cinco números aleatórios e colocar em uma tupla. Depois disso, mostre a listagem de números gerados e também indique o menor e o maior valor que estão na tupla."
      ]
    },
    {
      "cell_type": "code",
      "execution_count": null,
      "metadata": {
        "colab": {
          "base_uri": "https://localhost:8080/"
        },
        "id": "DMWJAcpASb3F",
        "outputId": "dcb75c04-e925-4ad5-a33c-b7834e6fa52d"
      },
      "outputs": [
        {
          "name": "stdout",
          "output_type": "stream",
          "text": [
            " a tupla gerada por numeros aleatorios é  (9, 29, 26, 6, 2, 13, 25, 0, 15, 20)\n",
            "o menor valor é 0\n",
            "o maior valor é 29\n"
          ]
        }
      ],
      "source": [
        "import random\n",
        "tupla= tuple(random.randint(0,29) for i in range(10))\n",
        "print(f' a tupla gerada por numeros aleatorios é  {tupla}')\n",
        "print(f'o menor valor é {min(tupla)}')\n",
        "print(f'o maior valor é {max(tupla)}')\n"
      ]
    },
    {
      "cell_type": "markdown",
      "metadata": {
        "id": "OhOICI5GagN0"
      },
      "source": [
        "75: Desenvolva um programa que leia quatro valores pelo teclado e guarde-os em uma tupla. No final, mostre:\n",
        "\n",
        "A) Quantas vezes apareceu o valor 9.\n",
        "B) Em que posição foi digitado o primeiro valor 3.\n",
        "C) Quais foram os números pares"
      ]
    },
    {
      "cell_type": "code",
      "execution_count": null,
      "metadata": {
        "colab": {
          "base_uri": "https://localhost:8080/"
        },
        "id": "ef21HUm-WiRr",
        "outputId": "761e47a6-28d0-4805-986b-eaf7bbc023f7"
      },
      "outputs": [
        {
          "name": "stdout",
          "output_type": "stream",
          "text": [
            "n1: 2\n",
            "n2: 3\n",
            "n3: 8\n",
            "n4: 9\n",
            "o numero 9 apareceu 1 vezes\n",
            "o numero 3 apareceu primeiramente na posição  1\n",
            " os numeros pares são (2, 8)\n"
          ]
        }
      ],
      "source": [
        "a =int(input(\"n1: \"))\n",
        "b =int(input(\"n2: \"))\n",
        "c =int(input(\"n3: \"))\n",
        "d =int(input(\"n4: \"))\n",
        "tupla = (a,b,c,d)\n",
        "n9 = tupla.count(9)\n",
        "print(f'o numero 9 apareceu {n9} vezes')\n",
        "for i in tupla:\n",
        "  if i ==3:\n",
        "    print(f'o numero 3 apareceu primeiramente na posição  {tupla.index(3)}')\n",
        "  if i==3 not in tupla:\n",
        "\n",
        "    print(\"não existe numero 3 na tupla\")\n",
        "tupla2 = tuple(i for i in tupla if i%2==0)\n",
        "print(f' os numeros pares são {tupla2}')\n"
      ]
    },
    {
      "cell_type": "markdown",
      "metadata": {
        "id": "KVcr_li4geUx"
      },
      "source": [
        "76: Crie um programa que tenha uma tupla única com nomes de produtos e seus respectivos preços, na sequência. No final, mostre uma listagem de preços, organizando os dados em forma tabular."
      ]
    },
    {
      "cell_type": "code",
      "execution_count": null,
      "metadata": {
        "colab": {
          "base_uri": "https://localhost:8080/"
        },
        "id": "HQAnc1wHfwDw",
        "outputId": "35dcbfd1-bb24-4368-9565-7e7c3c552cd1"
      },
      "outputs": [
        {
          "name": "stdout",
          "output_type": "stream",
          "text": [
            "FRUTAS\n",
            "maracuja:12\n",
            "maça:10\n",
            "banana:15\n",
            "laranja:20\n",
            "abacaxi:25\n",
            "abobora:30\n",
            "abacate:35\n",
            "goiaba:7\n"
          ]
        }
      ],
      "source": [
        "tupla =('maracuja',12,'maça',10,'banana',15,'laranja',20,'abacaxi',25,'abobora',30,'abacate',35,'goiaba',7)\n",
        "print('FRUTAS')\n",
        "for i in tupla:\n",
        "  if type(i)==str:\n",
        "    print(f'{i}:{tupla[tupla.index(i)+1]}')\n"
      ]
    },
    {
      "cell_type": "markdown",
      "metadata": {
        "id": "yO8HzJjhmeKv"
      },
      "source": [
        "77: Crie um programa que tenha uma tupla com várias palavras (não usar acentos). Depois disso, você deve mostrar, para cada palavra, quais são as suas vogais"
      ]
    },
    {
      "cell_type": "code",
      "execution_count": null,
      "metadata": {
        "colab": {
          "base_uri": "https://localhost:8080/"
        },
        "id": "LaCLJ1mBmgvq",
        "outputId": "29892efc-4834-4cf7-d144-324a6f0fceaf"
      },
      "outputs": [
        {
          "name": "stdout",
          "output_type": "stream",
          "text": [
            "a palavra maracuja tem 4 vogais são elas: ['a', 'a', 'u', 'a']\n",
            "a palavra maça tem 2 vogais são elas: ['a', 'a']\n",
            "a palavra banana tem 3 vogais são elas: ['a', 'a', 'a']\n",
            "a palavra laranja tem 3 vogais são elas: ['a', 'a', 'a']\n",
            "a palavra abacaxi tem 4 vogais são elas: ['a', 'a', 'a', 'i']\n",
            "a palavra abobora tem 4 vogais são elas: ['a', 'o', 'o', 'a']\n",
            "a palavra abacate tem 4 vogais são elas: ['a', 'a', 'a', 'e']\n",
            "a palavra goiaba tem 4 vogais são elas: ['o', 'i', 'a', 'a']\n",
            "a palavra wwwwq tem 0 vogais são elas: []\n",
            "a palavra pneumoultramicroscopicsilicovulcanoconiose tem 19 vogais são elas: ['e', 'u', 'o', 'u', 'a', 'i', 'o', 'o', 'i', 'i', 'i', 'o', 'u', 'a', 'o', 'o', 'i', 'o', 'e']\n"
          ]
        }
      ],
      "source": [
        "tupla =('maracuja','maça','banana','laranja','abacaxi','abobora','abacate','goiaba','wwwwq','pneumoultramicroscopicsilicovulcanoconiose')\n",
        "l = []\n",
        "for palavra in tupla:\n",
        "  v = 0\n",
        "  for i in palavra:\n",
        "    if i in 'aeiou':\n",
        "      v+=1\n",
        "      l.append(i)\n",
        "  print(f'a palavra {palavra} tem {v} vogais são elas: {l}')\n",
        "  l.clear()\n",
        "\n",
        "\n",
        "\n"
      ]
    },
    {
      "cell_type": "markdown",
      "metadata": {
        "id": "YTzMkGsua4RQ"
      },
      "source": [
        "78: Faça um programa que leia 5 valores numéricos e guarde-os em uma lista. No final, mostre qual foi o maior e o menor valor digitado e as suas respectivas posições na lista."
      ]
    },
    {
      "cell_type": "code",
      "execution_count": null,
      "metadata": {
        "colab": {
          "base_uri": "https://localhost:8080/"
        },
        "id": "vNLJ1_C1a6E4",
        "outputId": "4ab298c4-c954-4cd4-eafb-997af03b2977"
      },
      "outputs": [
        {
          "name": "stdout",
          "output_type": "stream",
          "text": [
            "digite um numero: 1\n",
            "digite um numero: 2\n",
            "digite um numero: 3\n",
            "digite um numero: 4\n",
            "digite um numero: 5\n",
            " o maior valor da lista é  5 e o menor é 1\n"
          ]
        }
      ],
      "source": [
        "ass = []\n",
        "for i in range(5):\n",
        "  a =int(input(\"digite um numero: \"))\n",
        "  ass.append(a)\n",
        "print(f' o maior valor da lista é  {max(ass)} e o menor é {min(ass)}')"
      ]
    },
    {
      "cell_type": "markdown",
      "metadata": {
        "id": "JiT8xwVSbbtQ"
      },
      "source": [
        "79: Crie um programa onde o usuário possa digitar vários valores numéricos e cadastre-os em uma lista. Caso o número já exista lá dentro, ele não será adicionado. No final, serão exibidos todos os valores únicos digitados, em ordem crescente."
      ]
    },
    {
      "cell_type": "code",
      "execution_count": null,
      "metadata": {
        "colab": {
          "base_uri": "https://localhost:8080/"
        },
        "id": "TQNJOsDrbcra",
        "outputId": "04f2a0ac-fe10-4e7b-82d0-62d9b587cf06"
      },
      "outputs": [
        {
          "name": "stdout",
          "output_type": "stream",
          "text": [
            "digite um numero: 1\n",
            "deseja continuar: [S/N]: s\n",
            "digite um numero: 2\n",
            "deseja continuar: [S/N]: s\n",
            "digite um numero: 1\n",
            "esse numero ja existe na lista!\n",
            "deseja continuar: [S/N]: s\n",
            "digite um numero: 4\n",
            "deseja continuar: [S/N]: s\n",
            "digite um numero: 3\n",
            "deseja continuar: [S/N]: s\n",
            "digite um numero: 78\n",
            "deseja continuar: [S/N]: s\n",
            "digite um numero: 65\n",
            "deseja continuar: [S/N]: s\n",
            "digite um numero: 43\n",
            "deseja continuar: [S/N]: s\n",
            "digite um numero: 21\n",
            "deseja continuar: [S/N]: s\n",
            "digite um numero: 23\n",
            "deseja continuar: [S/N]: s\n",
            "digite um numero: -3\n",
            "deseja continuar: [S/N]: n\n",
            "[-3, 1, 2, 3, 4, 21, 23, 43, 65, 78]\n"
          ]
        }
      ],
      "source": [
        "l = []\n",
        "while True:\n",
        "  n  = int(input(\"digite um numero: \"))\n",
        "  if n not in l:\n",
        "    l.append(n)\n",
        "  elif n in l:\n",
        "    print(\"esse numero ja existe na lista!\")\n",
        "  c =str(input(\"deseja continuar: [S/N]: \"))\n",
        "  if c.upper() =='N':\n",
        "    break\n",
        "\n",
        "print(f'lista em ordem crescente{sorted(l)}')\n"
      ]
    },
    {
      "cell_type": "markdown",
      "metadata": {
        "id": "ZxxvCqPLeicT"
      },
      "source": [
        "80: Crie um programa onde o usuário possa digitar cinco valores numéricos e cadastre-os em uma lista, já na posição correta de inserção (sem usar o sort()). No final, mostre a lista ordenada na tela."
      ]
    },
    {
      "cell_type": "code",
      "execution_count": null,
      "metadata": {
        "colab": {
          "base_uri": "https://localhost:8080/"
        },
        "id": "8n9OcCiGejiL",
        "outputId": "85fbf69f-2665-4122-e254-5dd6ac515917"
      },
      "outputs": [
        {
          "name": "stdout",
          "output_type": "stream",
          "text": [
            "digite um numero: 3\n",
            "digite um numero: 43\n",
            "digite um numero: 2\n",
            "digite um numero: 1\n",
            "digite um numero: 8\n",
            " lista desorganizada: [3, 43, 2, 1, 8]\n",
            "lista organizada: [1, 2, 3, 8, 43]\n"
          ]
        }
      ],
      "source": [
        "l = []\n",
        "organizada = []\n",
        "for i in range(5):\n",
        "  n  = int(input(\"digite um numero: \"))\n",
        "  l.append(n)\n",
        "for c in range(min(l),max(l)+1):\n",
        "    if c in l:\n",
        "      organizada.append(c)\n",
        "print(f' lista desorganizada: {l}')\n",
        "print(f'lista organizada: {organizada}')"
      ]
    },
    {
      "cell_type": "markdown",
      "metadata": {
        "id": "nvw3CVXfjUTV"
      },
      "source": [
        "81: Crie um programa que vai ler vários números e colocar em uma lista. Depois disso, mostre:\n",
        "A) Quantos números foram digitados.\n",
        "B) A lista de valores, ordenada de forma decrescente.\n",
        "C) Se o valor 5 foi digitado e está ou não na lista."
      ]
    },
    {
      "cell_type": "code",
      "execution_count": null,
      "metadata": {
        "colab": {
          "base_uri": "https://localhost:8080/"
        },
        "id": "jPnLfXfXjVBJ",
        "outputId": "7fc022b5-e852-4b5a-eb55-a7444ac85b01"
      },
      "outputs": [
        {
          "name": "stdout",
          "output_type": "stream",
          "text": [
            "digite um numero: 12\n",
            "deseja continuar: [S/N]s\n",
            "digite um numero: 21\n",
            "deseja continuar: [S/N]s\n",
            "digite um numero: 5\n",
            "deseja continuar: [S/N]s\n",
            "digite um numero: 34\n",
            "deseja continuar: [S/N]s\n",
            "digite um numero: 65\n",
            "deseja continuar: [S/N]s\n",
            "digite um numero: 7\n",
            "deseja continuar: [S/N]n\n",
            " foram digitados 6 numeros\n",
            " ordenando a lista na ordem descrescente temos: [65, 34, 21, 12, 7, 5]\n",
            "o numero 5 existe na lista na posição: 5\n"
          ]
        }
      ],
      "source": [
        "l = []\n",
        "while True:\n",
        "  n  = int(input(\"digite um numero: \"))\n",
        "  l.append(n)\n",
        "  c = str(input(\"deseja continuar: [S/N]\"))\n",
        "  if c.upper() =='N':\n",
        "    break\n",
        "print(f' foram digitados {len(l)} numeros')\n",
        "b = sorted(l,reverse=True)\n",
        "print(f' ordenando a lista na ordem descrescente temos: {b}')\n",
        "if 5 in l:\n",
        "  print(f'o numero 5 existe na lista na posição: {b.index(5)}')\n",
        "else:\n",
        "  print('o numero 5 não existe na lista ')"
      ]
    },
    {
      "cell_type": "markdown",
      "metadata": {
        "id": "6MFp_5hmngjp"
      },
      "source": [
        "82: Crie um programa que vai ler vários números e colocar em uma lista. Depois disso, crie duas listas extras que vão conter apenas os valores pares e os valores ímpares digitados, respectivamente. Ao final, mostre o conteúdo das três listas geradas.\n"
      ]
    },
    {
      "cell_type": "code",
      "execution_count": null,
      "metadata": {
        "colab": {
          "base_uri": "https://localhost:8080/"
        },
        "id": "QsM7y4-WnhTR",
        "outputId": "f24a2fd6-c241-408a-e369-ee3a81d9b194"
      },
      "outputs": [
        {
          "name": "stdout",
          "output_type": "stream",
          "text": [
            "digite um numero: 23\n",
            "deseja continuar: [S/N]s\n",
            "digite um numero: 11\n",
            "deseja continuar: [S/N]s\n",
            "digite um numero: 12\n",
            "deseja continuar: [S/N]s\n",
            "digite um numero: 78\n",
            "deseja continuar: [S/N]s\n",
            "digite um numero: 45\n",
            "deseja continuar: [S/N]s\n",
            "digite um numero: 1\n",
            "deseja continuar: [S/N]n\n",
            " a lista gerada é [23, 11, 12, 78, 45, 1] ela possui 6\n",
            " lista de pares: [12, 78]\n",
            "lista de impares: [23, 11, 45, 1]\n"
          ]
        }
      ],
      "source": [
        "l = []\n",
        "pares = []\n",
        "impares = []\n",
        "while True:\n",
        "  n = int(input(\"digite um numero: \"))\n",
        "  l.append(n)\n",
        "  c = str(input(\"deseja continuar: [S/N]\"))\n",
        "  if c in 'Nn':\n",
        "    break\n",
        "for i in l:\n",
        "    if i%2==0:\n",
        "      pares.append(i)\n",
        "    else:\n",
        "      impares.append(i)\n",
        "print(f' a lista gerada é {l} ela possui {len(l)}')\n",
        "print(f' lista de pares: {pares}')\n",
        "print(f'lista de impares: {impares}')"
      ]
    },
    {
      "cell_type": "markdown",
      "metadata": {
        "id": "OPqhB-7uufaq"
      },
      "source": [
        "83: Crie um programa onde o usuário digite uma expressão qualquer que use parênteses. Seu aplicativo deverá analisar se a expressão passada está com os parênteses abertos e fechados na ordem correta."
      ]
    },
    {
      "cell_type": "code",
      "execution_count": null,
      "metadata": {
        "colab": {
          "base_uri": "https://localhost:8080/"
        },
        "id": "d-LmDhbovBPv",
        "outputId": "8b8e1005-d259-424f-91cf-b1b7bfed0d72"
      },
      "outputs": [
        {
          "name": "stdout",
          "output_type": "stream",
          "text": [
            "digite uma expressão matematica: (1 + 1 * (50 / ()(23 - 2))\n",
            "expressão matematica invalida \n"
          ]
        }
      ],
      "source": [
        "a = str(input(\"digite uma expressão matematica: \"))\n",
        "b  = a.count('(')\n",
        "c = a.count(')')\n",
        "if b==c and '()' not in a:\n",
        "  print('sua expresão matematica é valida')\n",
        "else:\n",
        "  print(\"expressão matematica invalida \")"
      ]
    },
    {
      "cell_type": "code",
      "execution_count": null,
      "metadata": {
        "colab": {
          "base_uri": "https://localhost:8080/"
        },
        "id": "4bDGln4LvXwy",
        "outputId": "480cc82b-1bc0-44a3-8719-ace1a8e6dd0d"
      },
      "outputs": [
        {
          "name": "stdout",
          "output_type": "stream",
          "text": [
            "matheus:54\n",
            "lucas:50\n",
            "antonio:51\n",
            "essa sera a idade de todos eles em 2054\n"
          ]
        }
      ],
      "source": [
        "dados = [['matheus',24],['lucas',20],['antonio',21]]\n",
        "for p in dados:\n",
        "  print(f'{p[0]}:{p[1]+30}')\n",
        "print(f'essa sera a idade de todos eles em {2024+30}')"
      ]
    },
    {
      "cell_type": "markdown",
      "metadata": {
        "id": "oh5BJ-3c49QH"
      },
      "source": [
        "84: Faça um programa que leia nome e peso de várias pessoas, guardando tudo em uma lista. No final, mostre:\n",
        "A) Quantas pessoas foram cadastradas.\n",
        "B) Uma listagem com as pessoas mais pesadas.\n",
        "C) Uma listagem com as pessoas mais leves."
      ]
    },
    {
      "cell_type": "code",
      "execution_count": null,
      "metadata": {
        "colab": {
          "base_uri": "https://localhost:8080/"
        },
        "id": "80h4dtTg49-u",
        "outputId": "0324cb54-ca95-463c-8a72-cf2024904c5b"
      },
      "outputs": [
        {
          "name": "stdout",
          "output_type": "stream",
          "text": [
            "digite seu nome: matheus\n",
            "digite seu peso: 82\n",
            "deseja continuar [S/N]s\n",
            "dados cadastrados\n",
            "digite seu nome: lucas\n",
            "digite seu peso: 78\n",
            "deseja continuar [S/N]s\n",
            "dados cadastrados\n",
            "digite seu nome: nath\n",
            "digite seu peso: 50\n",
            "deseja continuar [S/N]n\n",
            "foram cadastradas 3 pessoas.\n",
            "a pessoa mais pesada é 82.0\n",
            "a pessoa mais leve é 50.0\n"
          ]
        }
      ],
      "source": [
        "l = []\n",
        "p = []\n",
        "while True:\n",
        "  l.append(str(input(\"digite seu nome: \")))\n",
        "  p.append(float(input(\"digite seu peso: \")))\n",
        "  c = str(input('deseja continuar [S/N]'))\n",
        "  if c in 'Nn':\n",
        "    break\n",
        "  if c in 'Ss':\n",
        "    print('dados cadastrados')\n",
        "\n",
        "print(f'foram cadastradas {len(l)} pessoas.')\n",
        "print(f'a pessoa mais pesada é {max(p)}')\n",
        "print(f'a pessoa mais leve é {min(p)}')\n",
        "\n"
      ]
    },
    {
      "cell_type": "markdown",
      "metadata": {
        "id": "J7xTR6dq5yyx"
      },
      "source": [
        "85: Crie um programa onde o usuário possa digitar sete valores numéricos e cadastre-os em uma lista única que mantenha separados os valores pares e ímpares. No final, mostre os valores pares e ímpares em ordem crescente."
      ]
    },
    {
      "cell_type": "code",
      "execution_count": null,
      "metadata": {
        "colab": {
          "base_uri": "https://localhost:8080/"
        },
        "id": "g3GmC3mn55e2",
        "outputId": "3b9de550-6952-464b-bc5f-206513aeb986"
      },
      "outputs": [
        {
          "name": "stdout",
          "output_type": "stream",
          "text": [
            "digite um numero: 2\n",
            "digite um numero: 3\n",
            "digite um numero: 6\n",
            "digite um numero: 9\n",
            "digite um numero: 67\n",
            "digite um numero: 43\n",
            "digite um numero: 55\n",
            "a lista com todos os numeros é [2, 3, 6, 9, 67, 43, 55]\n",
            "a lista de pares ordenada é  [2, 6]\n",
            "a lista de impares é [3, 9, 43, 55, 67]\n"
          ]
        }
      ],
      "source": [
        "pares = []\n",
        "impares = []\n",
        "n = []\n",
        "c = 1\n",
        "while c<=7:\n",
        "  a = (int(input(\"digite um numero: \")))\n",
        "  n.append(a)\n",
        "  c+=1\n",
        "  if a%2==0:\n",
        "    pares.append(a)\n",
        "  else:\n",
        "    impares.append(a)\n",
        "\n",
        "print(f'a lista com todos os numeros é {n}')\n",
        "print(f'a lista de pares ordenada é  {sorted(pares)}')\n",
        "print(f'a lista de impares é {sorted(impares)}')"
      ]
    },
    {
      "cell_type": "markdown",
      "metadata": {
        "id": "Ey64Ax-U9NTt"
      },
      "source": [
        "86: Crie um programa que declare uma matriz de dimensão 3x3 e preencha com valores lidos pelo teclado. No final, mostre a matriz na tela, com a formatação correta."
      ]
    },
    {
      "cell_type": "code",
      "execution_count": null,
      "metadata": {
        "colab": {
          "base_uri": "https://localhost:8080/"
        },
        "id": "Lu8CXkc79ORt",
        "outputId": "480947c3-c3c0-4b42-9c14-9c0a41d12e98"
      },
      "outputs": [
        {
          "name": "stdout",
          "output_type": "stream",
          "text": [
            "digite o numero de [1][1]: 1\n",
            "digite o numero de [1][2]: 2\n",
            "digite o numero de [1][3]: 3\n",
            "digite o numero de [2][1]: 4\n",
            "digite o numero de [2][2]: 5\n",
            "digite o numero de [2][3]: 6\n",
            "digite o numero de [3][1]: 7\n",
            "digite o numero de [3][2]: 8\n",
            "digite o numero de [3][3]: 9\n",
            "|[1, 2, 3]|\n",
            "|[4, 5, 6]|\n",
            "|[7, 8, 9]|\n"
          ]
        }
      ],
      "source": [
        "w = [1,2,3]\n",
        "l1 =[1,1,1]\n",
        "l2 =[2,2,2]\n",
        "l3 =[3,3,3]\n",
        "\n",
        "for l,c1 in zip(l1,w):\n",
        "  a = int(input(f'digite o numero de [{l}][{c1}]: '))\n",
        "  x.append(a)\n",
        "\n",
        "for l,c2 in zip(l2,w):\n",
        "  b = int(input(f'digite o numero de [{l}][{c2}]: '))\n",
        "  y.append(b)\n",
        "for l,c3 in zip(l3,w):\n",
        "  v = int(input(f'digite o numero de [{l}][{c3}]: '))\n",
        "  z.append(v)\n",
        "\n",
        "print(f'|{x}|')\n",
        "print(f'|{y}|')\n",
        "print(f'|{z}|')\n"
      ]
    },
    {
      "cell_type": "markdown",
      "metadata": {
        "id": "4OyrACXEOnT4"
      },
      "source": [
        "087: Aprimore o desafio anterior, mostrando no final:\n",
        "A) A soma de todos os valores pares digitados.\n",
        "B) A soma dos valores da terceira coluna.\n",
        "C) O maior valor da segunda linha.\n",
        "\n"
      ]
    },
    {
      "cell_type": "code",
      "execution_count": null,
      "metadata": {
        "colab": {
          "base_uri": "https://localhost:8080/"
        },
        "id": "PDXuJIa6OoQB",
        "outputId": "56356269-54c7-45cd-f431-734d5faaa536"
      },
      "outputs": [
        {
          "name": "stdout",
          "output_type": "stream",
          "text": [
            "digite o numero de [1][1]: 1\n",
            "digite o numero de [1][2]: 2\n",
            "digite o numero de [1][3]: 3\n",
            "digite o numero de [2][1]: 4\n",
            "digite o numero de [2][2]: 5\n",
            "digite o numero de [2][3]: 6\n",
            "digite o numero de [3][1]: 7\n",
            "digite o numero de [3][2]: 8\n",
            "digite o numero de [3][3]: 9\n",
            "|[1, 2, 3]|\n",
            "|[4, 5, 6]|\n",
            "|[7, 8, 9]|\n",
            " a soma de todos os pares é  20\n",
            "a soma de todos os numeros da terceira coluna é  18\n",
            " o maior valor da segunda linha é 6 \n"
          ]
        }
      ],
      "source": [
        "w = [1,2,3]\n",
        "l1 =[1,1,1]\n",
        "l2 =[2,2,2]\n",
        "l3 =[3,3,3]\n",
        "x = []\n",
        "y = []\n",
        "z = []\n",
        "lista = []\n",
        "soma =0\n",
        "\n",
        "for l,c1 in zip(l1,w):\n",
        "  a = int(input(f'digite o numero de [{l}][{c1}]: '))\n",
        "  x.append(a)\n",
        "\n",
        "for l,c2 in zip(l2,w):\n",
        "  b = int(input(f'digite o numero de [{l}][{c2}]: '))\n",
        "  y.append(b)\n",
        "\n",
        "for l,c3 in zip(l3,w):\n",
        "  v = int(input(f'digite o numero de [{l}][{c3}]: '))\n",
        "  z.append(v)\n",
        "\n",
        "lista.append(x)\n",
        "lista.append(y)\n",
        "lista.append(z)\n",
        "for a in lista:\n",
        "  for i in a:\n",
        "    if i%2==0:\n",
        "      soma+=i\n",
        "\n",
        "print(f'|{x}|')\n",
        "print(f'|{y}|')\n",
        "print(f'|{z}|')\n",
        "print(f' a soma de todos os pares é  {soma}')\n",
        "print(f'a soma de todos os numeros da terceira coluna é  {x[-1]+y[-1]+z[-1]}')\n",
        "print(f' o maior valor da segunda linha é {max(y)} ')"
      ]
    },
    {
      "cell_type": "markdown",
      "metadata": {
        "id": "1YVRXmzMRmhN"
      },
      "source": [
        "88: Faça um programa que ajude um jogador da MEGA SENA a criar palpites.O programa vai perguntar quantos jogos serão gerados e vai sortear 6 números entre 1 e 60 para cada jogo, cadastrando tudo em uma lista composta."
      ]
    },
    {
      "cell_type": "code",
      "execution_count": null,
      "metadata": {
        "colab": {
          "base_uri": "https://localhost:8080/"
        },
        "id": "J_9LePZAWexz",
        "outputId": "037e1e0d-5bee-497e-bfad-b99c979c223e"
      },
      "outputs": [
        {
          "name": "stdout",
          "output_type": "stream",
          "text": [
            "digite quantos jogos vc quer: 6\n",
            "essa sequencia [58, 41, 5, 32, 17, 5] apresenta repetição de numeros\n",
            "5\n",
            "o numero 5  foi removido\n",
            "e foi substituido por 11\n",
            "jogo 1: [58, 41, 32, 17, 5, 11]\n",
            "jogo 2: [52, 8, 37, 31, 25, 46]\n",
            "jogo 3: [11, 1, 40, 3, 9, 46]\n",
            "jogo 4: [30, 46, 1, 7, 10, 38]\n",
            "jogo 5: [38, 33, 60, 7, 46, 58]\n",
            "jogo 6: [3, 54, 22, 43, 35, 36]\n"
          ]
        }
      ],
      "source": [
        "import random\n",
        "l = []\n",
        "sub = []\n",
        "jogos = []\n",
        "n  = int(input(\"digite quantos jogos vc quer: \"))\n",
        "for i in range(n*6):\n",
        "  a= random.randint(1,61)\n",
        "  l.append(a)\n",
        "for i in l:\n",
        "  sub.append(i)\n",
        "  if len(sub)==6:\n",
        "    for i in sub:\n",
        "      if sub.count(i)>1:\n",
        "        print(f'essa sequencia {sub} apresenta repetição de numeros')\n",
        "        b =random.randint(1,61)\n",
        "        print(i)\n",
        "        sub.remove(i)\n",
        "        print(f'o numero {i}  foi removido')\n",
        "        print(f'e foi substituido por {b}')\n",
        "        sub.append(b)\n",
        "\n",
        "    jogos.append(sub[:])\n",
        "    sub.clear()\n",
        "\n",
        "for jogo in jogos:\n",
        "\n",
        "  print(f'jogo {jogos.index(jogo)+1}: {jogo}')\n",
        "\n",
        "\n"
      ]
    },
    {
      "cell_type": "markdown",
      "metadata": {
        "id": "5zefgyAAT-Sf"
      },
      "source": [
        "89: Crie um programa que leia nome e duas notas de vários alunos e guarde tudo em uma lista composta. No final, mostre um boletim contendo a média de cada um e permita que o usuário possa mostrar as notas de cada aluno individualmente\n"
      ]
    },
    {
      "cell_type": "code",
      "execution_count": null,
      "metadata": {
        "colab": {
          "base_uri": "https://localhost:8080/"
        },
        "id": "e4aJROMlQm9l",
        "outputId": "4463fa20-cb47-4593-d0c3-0f48d6b6ccd9"
      },
      "outputs": [
        {
          "name": "stdout",
          "output_type": "stream",
          "text": [
            "digite o seu nome: matheus\n",
            "digite sua nota 01: 7\n",
            "digite sua nota 02: 8\n",
            "deseja continuar: [S/N] s\n",
            "ok\n",
            "digite o seu nome: betania\n",
            "digite sua nota 01: 9\n",
            "digite sua nota 02: 8\n",
            "deseja continuar: [S/N] s\n",
            "ok\n",
            "digite o seu nome: mauro caproni\n",
            "digite sua nota 01: 6\n",
            "digite sua nota 02: 8\n",
            "deseja continuar: [S/N] s\n",
            "ok\n",
            "digite o seu nome: cidinha rocha alves\n",
            "digite sua nota 01: 7.8\n",
            "digite sua nota 02: 9.8\n",
            "deseja continuar: [S/N] n\n",
            "-=--=--=--=--=--=--=--=--=--=--=--=--=--=--=--=--=--=--=--=-\n",
            "BOLETIM\n",
            "no  -ALUNO        MEDIA\n",
            "-=--=--=--=--=--=--=--=--=--=--=--=--=--=--=--=--=--=--=--=-\n",
            "0    matheus         7.5\n",
            "1    betania         8.5\n",
            "2    mauro caproni      7.0\n",
            "3    cidinha rocha alves      8.8\n",
            "-=--=--=--=--=--=--=--=--=--=--=--=--=--=--=--=--=--=--=--=-\n",
            "digite o numero do aluno que vc deseja vizualizar as notas: 3\n",
            "-=--=--=--=--=--=--=--=--=--=--=--=--=--=--=--=--=--=--=--=-\n",
            "ALUNO: cidinha rocha alves\n",
            "-=--=--=--=--=--=--=--=--=--=--=--=--=--=--=--=--=--=--=--=-\n",
            "nota 01: 7.8\n",
            "nota 02: 9.8\n",
            "-=--=--=--=--=--=--=--=--=--=--=--=--=--=--=--=--=--=--=--=-\n",
            "MEDIA: 8.8\n",
            "obrigado, volte sempre.\n"
          ]
        }
      ],
      "source": [
        "alunos =[]\n",
        "c  n1 = float(input('digite sua nota 01: '))\n",
        "  n2 =  float(input(\"digite sua nota 02: \"))\n",
        "  media =(n1+n2)/2\n",
        "  alunos.append([nome,[n1,n2],media])\n",
        "  c = str(input(\"deseja continuar: [S/N] \"))\n",
        "  if c in 'Nn':\n",
        "    print('-=-'*20)\n",
        "    print('BOLETIM')\n",
        "    print(f'{\"no\":<4}-{\"ALUNO\":<10}{\"MEDIA\":>8}')\n",
        "    print('-=-'*20)\n",
        "    for i in alunos:\n",
        "      print(f'{alunos.index(i):<4} {i[0]:<10} {i[2]:>8.1f}')\n",
        "    print('-=-'*20)\n",
        "    break\n",
        "  if c in 'ss':\n",
        "    print('ok')\n",
        "\n",
        "op = int(input(\"digite o numero do aluno que vc deseja vizualizar as notas: \"))\n",
        "if op in range(len(alunos)):\n",
        "  print('-=-'*20)\n",
        "  print(f'ALUNO: {alunos[op][0]}')\n",
        "  print('-=-'*20)\n",
        "  print(f'nota 01: {alunos[op][1][0]}')\n",
        "  print(f'nota 02: {alunos[op][1][1]}')\n",
        "  print('-=-'*20)\n",
        "  print(f'MEDIA: {alunos[op][2]}')\n",
        "else:\n",
        "  print('numero invalido')\n",
        "print('obrigado, volte sempre.')"
      ]
    },
    {
      "cell_type": "markdown",
      "metadata": {
        "id": "QH-bnA8cefhS"
      },
      "source": [
        "# DICIONARIOS!!"
      ]
    },
    {
      "cell_type": "markdown",
      "metadata": {
        "id": "wNl4yqlGekHm"
      },
      "source": []
    },
    {
      "cell_type": "code",
      "execution_count": null,
      "metadata": {
        "colab": {
          "base_uri": "https://localhost:8080/",
          "height": 332
        },
        "id": "9EVY5EWYelAf",
        "outputId": "269b1ef2-ae3f-4f92-8165-b80aeba32517"
      },
      "outputs": [
        {
          "name": "stdout",
          "output_type": "stream",
          "text": [
            "digite o seu nome: a\n",
            "digite sua idade: 1\n",
            "qual é sua materia preferidad\n",
            "digite o seu nome: b\n",
            "digite sua idade: 2\n",
            "qual é sua materia preferidar\n",
            "digite o seu nome: c\n",
            "digite sua idade: 2323\n",
            "qual é sua materia preferidag\n"
          ]
        },
        {
          "ename": "AttributeError",
          "evalue": "'list' object has no attribute 'items'",
          "output_type": "error",
          "traceback": [
            "\u001b[0;31m---------------------------------------------------------------------------\u001b[0m",
            "\u001b[0;31mAttributeError\u001b[0m                            Traceback (most recent call last)",
            "\u001b[0;32m<ipython-input-4-16d0e5a89a96>\u001b[0m in \u001b[0;36m<cell line: 8>\u001b[0;34m()\u001b[0m\n\u001b[1;32m      6\u001b[0m   \u001b[0maluno\u001b[0m\u001b[0;34m[\u001b[0m\u001b[0;34m'materia'\u001b[0m\u001b[0;34m]\u001b[0m \u001b[0;34m=\u001b[0m \u001b[0mstr\u001b[0m\u001b[0;34m(\u001b[0m\u001b[0minput\u001b[0m\u001b[0;34m(\u001b[0m\u001b[0;34m\"qual é sua materia preferida\"\u001b[0m\u001b[0;34m)\u001b[0m\u001b[0;34m)\u001b[0m\u001b[0;34m\u001b[0m\u001b[0;34m\u001b[0m\u001b[0m\n\u001b[1;32m      7\u001b[0m   \u001b[0mclasse\u001b[0m\u001b[0;34m.\u001b[0m\u001b[0mappend\u001b[0m\u001b[0;34m(\u001b[0m\u001b[0maluno\u001b[0m\u001b[0;34m.\u001b[0m\u001b[0mcopy\u001b[0m\u001b[0;34m(\u001b[0m\u001b[0;34m)\u001b[0m\u001b[0;34m)\u001b[0m\u001b[0;34m\u001b[0m\u001b[0;34m\u001b[0m\u001b[0m\n\u001b[0;32m----> 8\u001b[0;31m \u001b[0mprint\u001b[0m\u001b[0;34m(\u001b[0m\u001b[0mclasse\u001b[0m\u001b[0;34m.\u001b[0m\u001b[0mitems\u001b[0m\u001b[0;34m(\u001b[0m\u001b[0;34m)\u001b[0m\u001b[0;34m)\u001b[0m\u001b[0;34m\u001b[0m\u001b[0;34m\u001b[0m\u001b[0m\n\u001b[0m",
            "\u001b[0;31mAttributeError\u001b[0m: 'list' object has no attribute 'items'"
          ]
        }
      ],
      "source": [
        "classe = []\n",
        "aluno = {}\n",
        "for i in range(3):\n",
        "  aluno['nome']=str(input(\"digite o seu nome: \"))\n",
        "  aluno['idade'] = int(input(\"digite sua idade: \"))\n",
        "  aluno['materia'] = str(input(\"qual é sua materia preferida\"))\n",
        "  classe.append(aluno.copy())\n",
        "print(classe.keys('nome'))\n"
      ]
    },
    {
      "cell_type": "code",
      "execution_count": null,
      "metadata": {
        "colab": {
          "base_uri": "https://localhost:8080/"
        },
        "id": "7ikNY2BotbEl",
        "outputId": "3c00a965-98f3-4b4f-f33d-11965b552c37"
      },
      "outputs": [
        {
          "name": "stdout",
          "output_type": "stream",
          "text": [
            "nome = matheus\n",
            "idade = 23\n",
            "materia = fisica\n",
            "nome = lucas\n",
            "idade = 21\n",
            "materia = matematica\n",
            "nome = be\n",
            "idade = 24\n",
            "materia = geografia\n"
          ]
        }
      ],
      "source": [
        "for k in classe:\n",
        "  for v,w in k.items():\n",
        "    print(f'{v} = {w}')"
      ]
    },
    {
      "cell_type": "markdown",
      "metadata": {
        "id": "N_KJiSzHuZe8"
      },
      "source": [
        "90: Faça um programa que leia nome e média de um aluno, guardando também a situação em um dicionário. No final, mostre o conteúdo da estrutura na tela."
      ]
    },
    {
      "cell_type": "code",
      "execution_count": null,
      "metadata": {
        "colab": {
          "base_uri": "https://localhost:8080/"
        },
        "id": "TLeN32ZWuaZI",
        "outputId": "c5fdd951-f926-4856-9703-8ede34d42713"
      },
      "outputs": [
        {
          "name": "stdout",
          "output_type": "stream",
          "text": [
            "digite seu nome:lucas\n",
            "digite sua media: 5\n",
            "{'nome': 'lucas', 'media': 5.0, 'situação': 'reprovado'}\n"
          ]
        }
      ],
      "source": [
        "aluno = {}\n",
        "aluno['nome'] = str(input(\"digite seu nome:\"))\n",
        "aluno['media']= float(input(\"digite sua media: \"))\n",
        "if aluno['media']>=7:\n",
        "  aluno['situação']='aprovado'\n",
        "else:\n",
        "  aluno['situação'] = 'reprovado'\n",
        "print(aluno)"
      ]
    },
    {
      "cell_type": "markdown",
      "metadata": {
        "id": "JW_zog4qw8_i"
      },
      "source": [
        "92: Crie um programa que leia nome, ano de nascimento e carteira de trabalho e cadastre-o (com idade) em um dicionário. Se por acaso a CTPS for diferente de ZERO, o dicionário receberá também o ano de contratação e o salário. Calcule e acrescente, além da idade, com quantos anos a pessoa vai se aposentar."
      ]
    },
    {
      "cell_type": "code",
      "execution_count": null,
      "metadata": {
        "colab": {
          "base_uri": "https://localhost:8080/"
        },
        "id": "Ll_4ps3DxD30",
        "outputId": "a7c48913-8eec-4b1c-a6bc-b799b40e2a7c"
      },
      "outputs": [
        {
          "name": "stdout",
          "output_type": "stream",
          "text": [
            "digite seu nome: matheus rocha\n",
            "digite sua idade: 24\n",
            "digite sua CTPS: 2334342323\n",
            "digite o ano de sua contratação: 2019\n",
            "digite o seu salario: 1234\n",
            "nome tem valor matheus rocha\n",
            "data nascimento tem valor 24\n",
            "ctps tem valor 2334342323\n",
            "ano de contratação tem valor 2019\n",
            "salario tem valor 1234.0\n",
            "tempo de serviço tem valor 5\n",
            "aposentadoria tem valor 2049\n"
          ]
        }
      ],
      "source": [
        "trabalhador = {}\n",
        "trabalhador['nome'] = str(input(\"digite seu nome: \"))\n",
        "trabalhador['data nascimento'] = int(input(\"digite sua idade: \"))\n",
        "trabalhador['ctps'] = int(input(\"digite sua CTPS: \"))\n",
        "if trabalhador['ctps'] !=0:\n",
        "  trabalhador['ano de contratação'] = int(input(\"digite o ano de sua contratação: \"))\n",
        "  trabalhador['salario'] = float(input(\"digite o seu salario: \"))\n",
        "trabalhador['tempo de serviço']=2024 - trabalhador['ano de contratação']\n",
        "a = 30\n",
        "trabalhador['aposentadoria'] = 2024 +(a-trabalhador['tempo de serviço'])\n",
        "for a,b in trabalhador.items():\n",
        "  print(f'{a} tem valor {b}')\n",
        "\n",
        "\n",
        "#print('com base nos dados fornecidos  o trabalhador', trabalhador['nome'],' irá se aposentar em',trabalhador['aposentadoria'])\n"
      ]
    },
    {
      "cell_type": "markdown",
      "metadata": {
        "id": "F04gBnEG3F2y"
      },
      "source": [
        "93: Crie um programa que gerencie o aproveitamento de um jogador de futebol. O programa vai ler o nome do jogador e quantas partidas ele jogou. Depois vai ler a quantidade de gols feitos em cada partida. No final, tudo isso será guardado em um dicionário, incluindo o total de gols feitos durante o campeonato."
      ]
    },
    {
      "cell_type": "code",
      "execution_count": null,
      "metadata": {
        "colab": {
          "base_uri": "https://localhost:8080/"
        },
        "id": "TNSQf8hn1Sfv",
        "outputId": "0be51cbc-e72e-488b-9aed-13ff3688ba49"
      },
      "outputs": [
        {
          "output_type": "stream",
          "name": "stdout",
          "text": [
            "digite seu nome: matheus\n",
            "digite a qtd de partidas que vc jogou 70\n",
            "digite a qtd de gols feitos: 45\n",
            "-=-=-=-=-=-=-=-=-=-=-=-=-=-=-=-=-=-=-=-=\n",
            "nome ---- matheus\n",
            "partidas ---- 70\n",
            "gols ---- 45\n",
            "{'nome': 'matheus', 'partidas': 70, 'gols': 45}\n"
          ]
        }
      ],
      "source": [
        "nome,qtd_part,gols=0,0,0\n",
        "def jogador():\n",
        "  nome =str(input('digite seu nome: '))\n",
        "  qtd_part = int(input(\"digite a qtd de partidas que vc jogou \"))\n",
        "  gols = int(input(\"digite a qtd de gols feitos: \"))\n",
        "  dic ={'nome':nome,'partidas':qtd_part,'gols':gols}\n",
        "  return dic\n",
        "jogador = jogador()\n",
        "print('-='*20)\n",
        "for k,v in jogador.items():\n",
        "  print(f'{k} ---- {v}')\n",
        "\n"
      ]
    },
    {
      "cell_type": "markdown",
      "metadata": {
        "id": "BNT86hRI7Xhc"
      },
      "source": [
        "94: Crie um programa que leia nome, sexo e idade de várias pessoas, guardando os dados de cada pessoa em um dicionário e todos os dicionários em uma lista. No final, mostre:\n",
        "A) Quantas pessoas foram cadastradas\n",
        "B) A média de idade\n",
        "C) Uma lista com as mulheres\n",
        "D) Uma lista de pessoas com idade acima da média"
      ]
    },
    {
      "cell_type": "code",
      "execution_count": null,
      "metadata": {
        "colab": {
          "base_uri": "https://localhost:8080/"
        },
        "id": "2FHvKHrR7Ygd",
        "outputId": "ff51438c-5b36-4559-9ebc-d9d7447a9119"
      },
      "outputs": [
        {
          "output_type": "stream",
          "name": "stdout",
          "text": [
            "digite seu nome: lara eridan\n",
            "digite sua idade: 18\n",
            "digite seu sexo: mulher\n",
            "deseja continuar: [1-s/2-n]1\n",
            "digite seu nome: matheus\n",
            "digite sua idade: 24\n",
            "digite seu sexo: homem\n",
            "deseja continuar: [1-s/2-n]1\n",
            "digite seu nome: antonio\n",
            "digite sua idade: 21\n",
            "digite seu sexo: homem\n",
            "deseja continuar: [1-s/2-n]2\n",
            "[{'nome0': 'lara eridan', 'idade_0': 18, 'sexo_0': 'mulher', 'nome1': 'matheus', 'idade_1': 24, 'sexo_1': 'homem', 'nome2': 'antonio', 'idade_2': 21, 'sexo_2': 'homem'}, {'nome0': 'lara eridan', 'idade_0': 18, 'sexo_0': 'mulher', 'nome1': 'matheus', 'idade_1': 24, 'sexo_1': 'homem', 'nome2': 'antonio', 'idade_2': 21, 'sexo_2': 'homem'}, {'nome0': 'lara eridan', 'idade_0': 18, 'sexo_0': 'mulher', 'nome1': 'matheus', 'idade_1': 24, 'sexo_1': 'homem', 'nome2': 'antonio', 'idade_2': 21, 'sexo_2': 'homem'}]\n",
            "3\n",
            "foram cadastradas 3 pessoas.\n",
            "a media de idade é 21.00 anos.\n",
            "a lista de mulheres é ['lara eridan']\n",
            "lista com as pessoas que possui a idade acima da media geral: ['matheus']\n"
          ]
        }
      ],
      "source": [
        "d = {}\n",
        "l = []\n",
        "acimamedia =[]\n",
        "f = []\n",
        "soma = 0\n",
        "c=0\n",
        "while True:\n",
        "  d[f'nome{c}'] = str(input(\"digite seu nome: \"))\n",
        "  d[f'idade_{c}'] = int(input(\"digite sua idade: \"))\n",
        "  d[f'sexo_{c}'] = str(input(\"digite seu sexo: \"))\n",
        "  if d[f'sexo_{c}'] == 'MULHER' or d[f'sexo_{c}'] == 'mulher':\n",
        "    f.append(d[f'nome{c}'])\n",
        "  l.append(d)\n",
        "  c+=1\n",
        "  a = int(input(\"deseja continuar: [1-s/2-n]\"))\n",
        "  if a==2:\n",
        "    break\n",
        "\n",
        "print(l)\n",
        "#qtd de pessoas cadastradas na lista\n",
        "print(len(l))\n",
        "# media de idade:\n",
        "for i in range(len(l)):\n",
        "  soma+=l[i][f'idade_{i}']\n",
        "  media = soma/len(l)\n",
        "print(f'foram cadastradas {len(l)} pessoas.')\n",
        "print(f'a media de idade é {media:.2f} anos.')\n",
        "print(f'a lista de mulheres é {f}')\n",
        "\n",
        "for id in range(len(l)):\n",
        "    if d[f'idade_{id}']>media:\n",
        "      acimamedia.append(d[f'nome{id}'])\n",
        "print(f'lista com as pessoas que possui a idade acima da media geral: {acimamedia}')\n",
        "\n",
        "\n"
      ]
    },
    {
      "cell_type": "markdown",
      "source": [
        "95: Aprimore o desafio 93 para que ele funcione com vários jogadores, incluindo um sistema de visualização de detalhes do aproveitamento de cada jogador."
      ],
      "metadata": {
        "id": "PR4J87tZVbpQ"
      }
    },
    {
      "cell_type": "code",
      "source": [
        "jogadores = {}\n",
        "c = 0\n",
        "l = []\n",
        "while True:\n",
        "  jogadores[f'nome'] = str(input(\"digite seu nome: \"))\n",
        "  jogadores[f'qtd_part']=int(input(\"digite s qtd de partidas: \"))\n",
        "  jogadores[f'gols'] = int(input(\"digite a qtd de gols:\"))\n",
        "  c+=1\n",
        "  l.append(jogadores.copy())\n",
        "  w = int(input('deseja continuar: 1-S/2-N'))\n",
        "  if w==2:\n",
        "    break\n",
        "print(l)\n"
      ],
      "metadata": {
        "colab": {
          "base_uri": "https://localhost:8080/"
        },
        "id": "QX6-eDUwLaw1",
        "outputId": "2b6d30fe-002e-4c6a-cf1d-4b91293c2981"
      },
      "execution_count": null,
      "outputs": [
        {
          "output_type": "stream",
          "name": "stdout",
          "text": [
            "digite seu nome: qweqew\n",
            "digite s qtd de partidas: 123\n",
            "digite a qtd de gols:321\n",
            "deseja continuar: 1-S/2-N1\n",
            "digite seu nome: qwersdgf\n",
            "digite s qtd de partidas: 3212\n",
            "digite a qtd de gols:3211\n",
            "deseja continuar: 1-S/2-N1\n",
            "digite seu nome: asdsfc\n",
            "digite s qtd de partidas: 3213\n",
            "digite a qtd de gols:2121\n",
            "deseja continuar: 1-S/2-N2\n",
            "[{'nome': 'qweqew', 'qtd_part': 123, 'gols': 321}, {'nome': 'qwersdgf', 'qtd_part': 3212, 'gols': 3211}, {'nome': 'asdsfc', 'qtd_part': 3213, 'gols': 2121}]\n"
          ]
        }
      ]
    },
    {
      "cell_type": "markdown",
      "source": [
        "96: Faça um programa que tenha uma função chamada área(), que receba as dimensões de um terreno retangular (largura e comprimento) e mostre a área do terreno."
      ],
      "metadata": {
        "id": "S1IHq5gkTIj5"
      }
    },
    {
      "cell_type": "code",
      "source": [
        "def p():\n",
        "  lar =float(input(\"digite a largura do terreno: \"))\n",
        "  comp = float(input(\"digite o comprimento do terreno: \"))\n",
        "  area(lar,comp)\n",
        "\n",
        "\n",
        "def area(a,b):\n",
        "  c =a*b\n",
        "  print(f'a area do terreno é {c}')\n",
        "\n",
        "p()\n"
      ],
      "metadata": {
        "colab": {
          "base_uri": "https://localhost:8080/"
        },
        "id": "wWX9iiNaTJgz",
        "outputId": "6cb99665-c80a-4e18-d076-ef14b3a12ae2"
      },
      "execution_count": null,
      "outputs": [
        {
          "output_type": "stream",
          "name": "stdout",
          "text": [
            "digite a largura do terreno: 35\n",
            "digite o comprimento do terreno: 654\n",
            "a area do terreno é 22890.0\n"
          ]
        }
      ]
    },
    {
      "cell_type": "markdown",
      "source": [
        "97: Faça um programa que tenha uma função chamada escreva(), que receba um texto qualquer como parâmetro e mostre uma mensagem com tamanho adaptável.\n",
        "\n",
        "Ex:\n",
        "escreva('Olá, Mundo!')\n",
        "Saída:\n",
        "~~~~~~~~~\n",
        " Olá, Mundo!\n",
        "~~~~~~~~~"
      ],
      "metadata": {
        "id": "vbfaSgJCUjqz"
      }
    },
    {
      "cell_type": "code",
      "source": [
        "def escreva(a):\n",
        "  print('-'*20)\n",
        "  print(a)\n",
        "  print('-'*20)\n",
        "escreva('MATHEUS ROCHA NEMER ')"
      ],
      "metadata": {
        "colab": {
          "base_uri": "https://localhost:8080/"
        },
        "id": "9mBD1Oa9UlGc",
        "outputId": "e5ca26dc-b1fc-461a-f8e1-88581e3b171c"
      },
      "execution_count": null,
      "outputs": [
        {
          "output_type": "stream",
          "name": "stdout",
          "text": [
            "--------------------\n",
            "MATHEUS ROCHA NEMER \n",
            "--------------------\n"
          ]
        }
      ]
    },
    {
      "cell_type": "markdown",
      "source": [
        "98: Faça um programa que tenha uma função chamada contador(), que receba três parâmetros: início, fim e passo. Seu programa tem que realizar três contagens através da função criada:\n",
        "\n",
        "a) de 1 até 10, de 1 em 1\n",
        "b) de 10 até 0, de 2 em 2\n",
        "c) uma contagem personalizada"
      ],
      "metadata": {
        "id": "fCfETugmVrGK"
      }
    },
    {
      "cell_type": "code",
      "source": [
        "\n",
        "def de1a10():\n",
        "\n",
        "  print('contagem de 1 a 10:')\n",
        "  import time\n",
        "  for i in range(1,11):\n",
        "    time.sleep(1)\n",
        "    print(i,end=',')\n",
        "\n",
        "def de10a0():\n",
        "\n",
        "  print('contagem de 10 a 0:')\n",
        "  for i in range(10,-1,-2):\n",
        "    time.sleep(1)\n",
        "    print(i,end=',')\n",
        "\n",
        "def cont(a,b,c):\n",
        "  print('contagem personalizada:')\n",
        "  for i in range(a,b,c):\n",
        "    time.sleep(1)\n",
        "    print(i,end=',')\n",
        "\n",
        "\n",
        "\n",
        "de1a10()\n",
        "\n",
        "de10a0()\n",
        "\n",
        "cont(-13,20,2)"
      ],
      "metadata": {
        "colab": {
          "base_uri": "https://localhost:8080/"
        },
        "id": "73UbXhuoVr-k",
        "outputId": "ba405f2a-9963-4880-b65c-c7bbeebddc21"
      },
      "execution_count": null,
      "outputs": [
        {
          "output_type": "stream",
          "name": "stdout",
          "text": [
            "contagem de 1 a 10:\n",
            "1,2,3,4,5,6,7,8,9,10,contagem de 10 a 0:\n",
            "10,8,6,4,2,0,contagem personalizada:\n",
            "-13,-11,-9,-7,-5,-3,-1,1,3,5,7,9,11,13,15,17,19,"
          ]
        }
      ]
    },
    {
      "cell_type": "markdown",
      "source": [
        "99: Faça um programa que tenha uma função chamada maior(), que receba vários parâmetros com valores inteiros. Seu programa tem que analisar todos os valores e dizer qual deles é o maior."
      ],
      "metadata": {
        "id": "ELMgW3x7KBua"
      }
    },
    {
      "cell_type": "code",
      "source": [
        "def maior(*num):\n",
        "  maior  =0\n",
        "  for i in num:\n",
        "    if i>maior:\n",
        "      maior = i\n",
        "  print(f'foram recebidos {len(num)} numeros')\n",
        "  print(f'o maior valor recebido é {maior}')\n",
        "maior(2,4,32,2,12,43,34,56,32,2,1,1,111,34,434,543,90)"
      ],
      "metadata": {
        "colab": {
          "base_uri": "https://localhost:8080/"
        },
        "id": "Un-gGDc2KCmI",
        "outputId": "38b8543c-6fb1-4f19-f8ec-3b20690ec3b0"
      },
      "execution_count": null,
      "outputs": [
        {
          "output_type": "stream",
          "name": "stdout",
          "text": [
            "foram recebidos 17 numeros\n",
            "o maior valor recebido é 543\n"
          ]
        }
      ]
    },
    {
      "cell_type": "markdown",
      "source": [
        " 100: Faça um programa que tenha uma lista chamada números e duas funções chamadas sorteia() e somaPar(). A primeira função vai sortear 5 números e vai colocá-los dentro da lista e a segunda função vai mostrar a soma entre todos os valores pares sorteados pela função anterior."
      ],
      "metadata": {
        "id": "DaFvrdwZNJJl"
      }
    },
    {
      "cell_type": "code",
      "source": [
        "def sorteia():\n",
        "  lista = []\n",
        "  import random\n",
        "  for i in  range(5):\n",
        "    b = random.randint(1,30)\n",
        "    lista.append(b)\n",
        "  print(f'a lista sorteada é  {lista}')\n",
        "  soma(lista)\n",
        "def soma(lista):\n",
        "    print(f'a soma de todos os valores da lista é {sum(lista)}')\n",
        "sorteia()\n"
      ],
      "metadata": {
        "colab": {
          "base_uri": "https://localhost:8080/"
        },
        "id": "RQxDuUgmHFdf",
        "outputId": "7a1396e3-20e1-4c31-a3c7-ef21b6570354"
      },
      "execution_count": null,
      "outputs": [
        {
          "output_type": "stream",
          "name": "stdout",
          "text": [
            "a lista sorteada é  [27, 12, 25, 5, 19]\n",
            "a soma de todos os valores da lista é 88\n"
          ]
        }
      ]
    },
    {
      "cell_type": "markdown",
      "source": [
        "101: Crie um programa que tenha uma função chamada voto() que vai receber como parâmetro o ano de nascimento de uma pessoa, retornando um valor literal indicando se uma pessoa tem voto NEGADO, OPCIONAL e OBRIGATÓRIO nas eleições."
      ],
      "metadata": {
        "id": "3NhJ0r1yaSVQ"
      }
    },
    {
      "cell_type": "code",
      "source": [
        "def voto(a):\n",
        "  c = 2024-a\n",
        "  if c>=18 and c<70:\n",
        "    print(' voto obrigatorio')\n",
        "  elif c>=70:\n",
        "    print('voto opcional')\n",
        "  else:\n",
        "    print('voto negado')\n",
        "\n",
        "ano = int(input(\"digite seu ano de nascimento: \"))\n",
        "voto(ano)"
      ],
      "metadata": {
        "colab": {
          "base_uri": "https://localhost:8080/"
        },
        "id": "-1uB7Z4jaTeZ",
        "outputId": "9c1099f4-13a0-461c-ff63-d61ffeccf705"
      },
      "execution_count": null,
      "outputs": [
        {
          "output_type": "stream",
          "name": "stdout",
          "text": [
            "digite seu ano de nascimento: 1941\n",
            "voto opcional\n"
          ]
        }
      ]
    },
    {
      "cell_type": "markdown",
      "source": [
        "102: Crie um programa que tenha uma função fatorial() que receba dois parâmetros: o primeiro que indique o número a calcular e outro chamado show, que será um valor lógico (opcional) indicando se será mostrado ou não na tela o processo de cálculo do fatorial."
      ],
      "metadata": {
        "id": "lwhbQi92bUBG"
      }
    },
    {
      "cell_type": "code",
      "source": [
        "def fat(a,show):\n",
        "  f = 1\n",
        "  if show =='sim':\n",
        "    for c in range(a,1,-1):\n",
        "      f*=c\n",
        "      print(f'{f}',end=' ')\n",
        "  elif show =='não':\n",
        "    for c in range(a,0,-1):\n",
        "      f*=c\n",
        "    print(f'valor final fatorial de {a} é {f}')\n",
        "n = int(input(\"digite o numero que vc quer o fatorial: \"))\n",
        "p =str(input(\"vc deseja ver o precesso: sim ou não\"))\n",
        "fat(n,p)"
      ],
      "metadata": {
        "colab": {
          "base_uri": "https://localhost:8080/"
        },
        "id": "6oymclMWbU4j",
        "outputId": "31d4f3a9-16fe-49a0-fde6-c98cce2bfe71"
      },
      "execution_count": null,
      "outputs": [
        {
          "output_type": "stream",
          "name": "stdout",
          "text": [
            "digite o numero que vc quer o fatorial: 8\n",
            "vc deseja ver o precesso: sim ou nãosim\n",
            "8 56 336 1680 6720 20160 40320 "
          ]
        }
      ]
    },
    {
      "cell_type": "markdown",
      "source": [
        "103: Faça um programa que tenha uma função chamada ficha(), que receba dois parâmetros opcionais: o nome de um jogador e quantos gols ele marcou. O programa deverá ser capaz de mostrar a ficha do jogador, mesmo que algum dado não tenha sido informado corretamente.\n",
        "\n"
      ],
      "metadata": {
        "id": "5WZqvjdSvbgC"
      }
    },
    {
      "cell_type": "code",
      "source": [
        "def ficha(nome='jogador',gols = 0):\n",
        "  print('FICHA DO JOGADOR')\n",
        "  print(f'NOME:{nome}     GOLS:{gols}')\n",
        "nome = str(input(\"digite o nome do jogador: \"))\n",
        "gols = int(input(\"digite a qtd de gols que o jogador fez: \"))\n",
        "ficha(nome,gols)\n"
      ],
      "metadata": {
        "colab": {
          "base_uri": "https://localhost:8080/",
          "height": 228
        },
        "id": "vhOJWFnBvh8S",
        "outputId": "e1859e1d-e3f9-4082-8cb0-e0fbc10ba371"
      },
      "execution_count": null,
      "outputs": [
        {
          "name": "stdout",
          "output_type": "stream",
          "text": [
            "digite o nome do jogador: \n",
            "digite a qtd de gols que o jogador fez: \n"
          ]
        },
        {
          "output_type": "error",
          "ename": "ValueError",
          "evalue": "invalid literal for int() with base 10: ''",
          "traceback": [
            "\u001b[0;31m---------------------------------------------------------------------------\u001b[0m",
            "\u001b[0;31mValueError\u001b[0m                                Traceback (most recent call last)",
            "\u001b[0;32m<ipython-input-26-c979a65dd176>\u001b[0m in \u001b[0;36m<cell line: 5>\u001b[0;34m()\u001b[0m\n\u001b[1;32m      3\u001b[0m   \u001b[0mprint\u001b[0m\u001b[0;34m(\u001b[0m\u001b[0;34mf'NOME:{nome}     GOLS:{gols}'\u001b[0m\u001b[0;34m)\u001b[0m\u001b[0;34m\u001b[0m\u001b[0;34m\u001b[0m\u001b[0m\n\u001b[1;32m      4\u001b[0m \u001b[0mnome\u001b[0m \u001b[0;34m=\u001b[0m \u001b[0mstr\u001b[0m\u001b[0;34m(\u001b[0m\u001b[0minput\u001b[0m\u001b[0;34m(\u001b[0m\u001b[0;34m\"digite o nome do jogador: \"\u001b[0m\u001b[0;34m)\u001b[0m\u001b[0;34m)\u001b[0m\u001b[0;34m\u001b[0m\u001b[0;34m\u001b[0m\u001b[0m\n\u001b[0;32m----> 5\u001b[0;31m \u001b[0mgols\u001b[0m \u001b[0;34m=\u001b[0m \u001b[0mint\u001b[0m\u001b[0;34m(\u001b[0m\u001b[0minput\u001b[0m\u001b[0;34m(\u001b[0m\u001b[0;34m\"digite a qtd de gols que o jogador fez: \"\u001b[0m\u001b[0;34m)\u001b[0m\u001b[0;34m)\u001b[0m\u001b[0;34m\u001b[0m\u001b[0;34m\u001b[0m\u001b[0m\n\u001b[0m\u001b[1;32m      6\u001b[0m \u001b[0mficha\u001b[0m\u001b[0;34m(\u001b[0m\u001b[0mnome\u001b[0m\u001b[0;34m,\u001b[0m\u001b[0mgols\u001b[0m\u001b[0;34m)\u001b[0m\u001b[0;34m\u001b[0m\u001b[0;34m\u001b[0m\u001b[0m\n",
            "\u001b[0;31mValueError\u001b[0m: invalid literal for int() with base 10: ''"
          ]
        }
      ]
    },
    {
      "cell_type": "markdown",
      "source": [
        " 104: Crie um programa que tenha a função leiaInt(), que vai funcionar de forma semelhante 'a função input() do Python, só que fazendo a validação para aceitar apenas um valor numérico.\n",
        "Ex: n = leiaInt('Digite um n: ')"
      ],
      "metadata": {
        "id": "zhH6NzYLwW4T"
      }
    },
    {
      "cell_type": "code",
      "source": [
        "def leiaint():\n",
        "  a = int(input(\"digite um numero: \"))\n",
        "  print(f' o numero lido é {a}')\n",
        "leiaint()"
      ],
      "metadata": {
        "colab": {
          "base_uri": "https://localhost:8080/"
        },
        "id": "uF-HPcnpwXou",
        "outputId": "8211ea6f-78c5-4c41-ea24-e1357f19312f"
      },
      "execution_count": null,
      "outputs": [
        {
          "output_type": "stream",
          "name": "stdout",
          "text": [
            "digite um numero: 23\n",
            " o numero lido é 23\n"
          ]
        }
      ]
    },
    {
      "cell_type": "markdown",
      "source": [
        "105: Faça um programa que tenha uma função notas() que pode receber várias notas de alunos e vai retornar um dicionário com as seguintes informações:\n",
        "\n",
        "- Quantidade de notas\n",
        "- A maior nota\n",
        "- A menor nota\n",
        "- A média da turma\n",
        "- A situação (opcional)"
      ],
      "metadata": {
        "id": "fKUS3ukwxEuA"
      }
    },
    {
      "cell_type": "code",
      "source": [
        "def notas():\n",
        "  d = {'quantidade de notas':'','maior nota':'','menor nota':'','media da turma':''}\n",
        "  a = []\n",
        "  notas = []\n",
        "  while True:\n",
        "    aluno = str(input(\"digite seu nome: \"))\n",
        "    n = float(input(\"digite sua nota: \"))\n",
        "    a.append(aluno)\n",
        "    notas.append(n)\n",
        "    s = int(input(\"deseja continuar: 1 - sim 2 - não\"))\n",
        "    if s==1:\n",
        "      print('ok')\n",
        "    elif s==2:\n",
        "      d['quantidade de notas'] =  len(a)\n",
        "      d['maior nota'] = max(notas)\n",
        "      d['menor nota'] = min(notas)\n",
        "      d['media da turma'] =(sum(notas))/len(a)\n",
        "      print(d)\n",
        "\n",
        "      break\n",
        "\n",
        "notas()\n",
        "\n"
      ],
      "metadata": {
        "id": "Ey0AE3OFxFh1"
      },
      "execution_count": null,
      "outputs": []
    },
    {
      "cell_type": "markdown",
      "source": [
        "106: Faça um mini-sistema que utilize o Interactive Help do Python. O usuário vai digitar o comando e o manual vai aparecer. Quando o usuário digitar a palavra 'FIM', o programa se encerrará. Importante: use cores."
      ],
      "metadata": {
        "id": "FG48W6SZDelk"
      }
    },
    {
      "cell_type": "code",
      "source": [
        "\n",
        "while True:\n",
        "  a = str(input(\"Função ou biblioteca? \"))\n",
        "  help(a)\n",
        "  if a=='sair':\n",
        "    break\n",
        "print(fore.red+'ate logo')"
      ],
      "metadata": {
        "colab": {
          "base_uri": "https://localhost:8080/",
          "height": 383
        },
        "id": "miWtR8VO9Rsm",
        "outputId": "28a56875-934d-4337-f9ba-9f3d2b5d0a6a"
      },
      "execution_count": null,
      "outputs": [
        {
          "output_type": "error",
          "ename": "ModuleNotFoundError",
          "evalue": "No module named 'color'",
          "traceback": [
            "\u001b[0;31m---------------------------------------------------------------------------\u001b[0m",
            "\u001b[0;31mModuleNotFoundError\u001b[0m                       Traceback (most recent call last)",
            "\u001b[0;32m<ipython-input-6-96689ffcdbdc>\u001b[0m in \u001b[0;36m<cell line: 1>\u001b[0;34m()\u001b[0m\n\u001b[0;32m----> 1\u001b[0;31m \u001b[0;32mfrom\u001b[0m \u001b[0mcolor\u001b[0m \u001b[0;32mimport\u001b[0m \u001b[0minit\u001b[0m\u001b[0;34m,\u001b[0m \u001b[0mfore\u001b[0m\u001b[0;34m,\u001b[0m \u001b[0mback\u001b[0m\u001b[0;34m\u001b[0m\u001b[0;34m\u001b[0m\u001b[0m\n\u001b[0m\u001b[1;32m      2\u001b[0m \u001b[0minit\u001b[0m\u001b[0;34m(\u001b[0m\u001b[0;34m)\u001b[0m\u001b[0;34m\u001b[0m\u001b[0;34m\u001b[0m\u001b[0m\n\u001b[1;32m      3\u001b[0m \u001b[0;32mwhile\u001b[0m \u001b[0;32mTrue\u001b[0m\u001b[0;34m:\u001b[0m\u001b[0;34m\u001b[0m\u001b[0;34m\u001b[0m\u001b[0m\n\u001b[1;32m      4\u001b[0m   \u001b[0ma\u001b[0m \u001b[0;34m=\u001b[0m \u001b[0mstr\u001b[0m\u001b[0;34m(\u001b[0m\u001b[0minput\u001b[0m\u001b[0;34m(\u001b[0m\u001b[0;34m\"Função ou biblioteca? \"\u001b[0m\u001b[0;34m)\u001b[0m\u001b[0;34m)\u001b[0m\u001b[0;34m\u001b[0m\u001b[0;34m\u001b[0m\u001b[0m\n\u001b[1;32m      5\u001b[0m   \u001b[0mhelp\u001b[0m\u001b[0;34m(\u001b[0m\u001b[0ma\u001b[0m\u001b[0;34m)\u001b[0m\u001b[0;34m\u001b[0m\u001b[0;34m\u001b[0m\u001b[0m\n",
            "\u001b[0;31mModuleNotFoundError\u001b[0m: No module named 'color'",
            "",
            "\u001b[0;31m---------------------------------------------------------------------------\u001b[0;32m\nNOTE: If your import is failing due to a missing package, you can\nmanually install dependencies using either !pip or !apt.\n\nTo view examples of installing some common dependencies, click the\n\"Open Examples\" button below.\n\u001b[0;31m---------------------------------------------------------------------------\u001b[0m\n"
          ],
          "errorDetails": {
            "actions": [
              {
                "action": "open_url",
                "actionText": "Open Examples",
                "url": "/notebooks/snippets/importing_libraries.ipynb"
              }
            ]
          }
        }
      ]
    },
    {
      "cell_type": "markdown",
      "source": [],
      "metadata": {
        "id": "coHEKB6eCCix"
      }
    },
    {
      "cell_type": "code",
      "source": [
        "for i in l:\n",
        "  print('-=-'*10)\n",
        "  print(f'JOGADOR   {l.index(i)}')\n",
        "  print('-=-'*10)\n",
        "  for k,v in i.items():\n",
        "    print(f'{k} ----{v}')\n"
      ],
      "metadata": {
        "colab": {
          "base_uri": "https://localhost:8080/"
        },
        "id": "CatmUTgS5KY9",
        "outputId": "89d339f0-3001-4eda-80fc-495042c2d600"
      },
      "execution_count": null,
      "outputs": [
        {
          "output_type": "stream",
          "name": "stdout",
          "text": [
            "-=--=--=--=--=--=--=--=--=--=-\n",
            "JOGADOR   0\n",
            "-=--=--=--=--=--=--=--=--=--=-\n",
            "nome ----qweqew\n",
            "qtd_part ----123\n",
            "gols ----321\n",
            "-=--=--=--=--=--=--=--=--=--=-\n",
            "JOGADOR   1\n",
            "-=--=--=--=--=--=--=--=--=--=-\n",
            "nome ----qwersdgf\n",
            "qtd_part ----3212\n",
            "gols ----3211\n",
            "-=--=--=--=--=--=--=--=--=--=-\n",
            "JOGADOR   2\n",
            "-=--=--=--=--=--=--=--=--=--=-\n",
            "nome ----asdsfc\n",
            "qtd_part ----3213\n",
            "gols ----2121\n"
          ]
        }
      ]
    },
    {
      "cell_type": "code",
      "execution_count": null,
      "metadata": {
        "colab": {
          "base_uri": "https://localhost:8080/"
        },
        "id": "WF6Xj-Nq9xYT",
        "outputId": "51d9b7c8-2caf-4f30-cc4c-0be46f67ecee"
      },
      "outputs": [
        {
          "output_type": "stream",
          "name": "stdout",
          "text": [
            "[14, 10, 6, 4, 24, 46]\n"
          ]
        }
      ],
      "source": [
        "l =[7,5,3,2,12,23]\n",
        "def dobra(list):\n",
        "  nova = []\n",
        "  for i in list:\n",
        "    nova.append(i*2)\n",
        "  print(nova)\n",
        "dobra(l)\n"
      ]
    },
    {
      "cell_type": "code",
      "execution_count": null,
      "metadata": {
        "colab": {
          "base_uri": "https://localhost:8080/"
        },
        "id": "V81Zzx6F565P",
        "outputId": "0f340740-ddd9-4c85-91ed-81b7c37a85ae"
      },
      "outputs": [
        {
          "name": "stdout",
          "output_type": "stream",
          "text": [
            "3\n"
          ]
        }
      ],
      "source": [
        "print(len(l))"
      ]
    },
    {
      "cell_type": "code",
      "execution_count": null,
      "metadata": {
        "colab": {
          "base_uri": "https://localhost:8080/"
        },
        "id": "18WETZpjzNqQ",
        "outputId": "c0a33dc9-b0cb-496e-a333-ad4e588f82d9"
      },
      "outputs": [
        {
          "name": "stdout",
          "output_type": "stream",
          "text": [
            "digite seu nome: matheus\n",
            "digite sua idade: 25\n",
            "digite seu sexo: homem\n",
            "deseja continuar: [1-s/2-n]1\n",
            "digite seu nome: lara\n",
            "digite sua idade: 18\n",
            "digite seu sexo: mulher\n",
            "deseja continuar: [1-s/2-n]2\n",
            "{'nome0': 'matheus', 'idade_0': 25, 'sexo_0': 'homem', 'nome1': 'lara', 'idade_1': 18, 'sexo_1': 'mulher'}\n"
          ]
        }
      ],
      "source": [
        "'''a ={'nome':'matheus','idade1':24,'sexo1':'m','nome1': 'lucas','idade2':20,'sexo2':'m','nome2': 'antonio','idade3':21,'sexo3':'m'}\n",
        "for i in a.keys():\n",
        "  print(f'a chave {i} tem como valor {a[i]}')'''\n",
        "b ={}\n",
        "l =[]\n",
        "c = 0\n",
        "while True:\n",
        "  b[f'nome{c}'] = str(input(\"digite seu nome: \"))\n",
        "  b[f'idade_{c}'] = int(input(\"digite sua idade: \"))\n",
        "  b[f'sexo_{c}'] = str(input(\"digite seu sexo: \"))\n",
        "  c+=1\n",
        "  l.append()\n",
        "  a = int(input(\"deseja continuar: [1-s/2-n]\"))\n",
        "  if a==2:\n",
        "    break\n",
        "\n",
        "print(b)"
      ]
    },
    {
      "cell_type": "code",
      "execution_count": null,
      "metadata": {
        "colab": {
          "base_uri": "https://localhost:8080/"
        },
        "id": "EWfnBe0MkAbR",
        "outputId": "5e5194f4-c2b7-42c9-f2dc-0215b92280c0"
      },
      "outputs": [
        {
          "data": {
            "text/plain": [
              "dict_values(['lucas', 1567])"
            ]
          },
          "execution_count": 19,
          "metadata": {},
          "output_type": "execute_result"
        }
      ],
      "source": [
        "'''for i in range(2):\n",
        "\n",
        "  a ={'nome':str(input(\"digite seu nome: \")),'salario':float(input(\"digite seu salario: \"))}\n",
        "print(a)'''\n",
        "d ={'nome':'matheus','salario':1442,'nome':'lucas','salario':1567}\n",
        "d.values()"
      ]
    },
    {
      "cell_type": "code",
      "execution_count": null,
      "metadata": {
        "colab": {
          "base_uri": "https://localhost:8080/"
        },
        "id": "P1P74NIrl5r8",
        "outputId": "a7ccc805-c737-40fb-b118-ac0df5a7c94c"
      },
      "outputs": [
        {
          "name": "stdout",
          "output_type": "stream",
          "text": [
            "1\n",
            "3\n",
            "5\n",
            "7\n"
          ]
        }
      ],
      "source": [
        "'''a1 = []\n",
        "a2 = []\n",
        "a3 = []\n",
        "for i in range(3):\n",
        "  print(i)\n",
        "  if i==0:\n",
        "    a1.append(nome)\n",
        "    a1.append(salario)\n",
        "  if i==1:'''\n",
        "a = [1,2,3,4,5,6,7,8]\n",
        "for c in a[::2]:\n",
        "  print(c)"
      ]
    },
    {
      "cell_type": "code",
      "execution_count": null,
      "metadata": {
        "colab": {
          "base_uri": "https://localhost:8080/",
          "height": 122
        },
        "id": "-c0YWfIjrOeF",
        "outputId": "c4a96def-84b4-46e7-c38b-98d2293c9391"
      },
      "outputs": [
        {
          "name": "stdout",
          "output_type": "stream",
          "text": [
            "digite seu nome: matheus\n",
            "digite sua função: qwer2\n",
            "digite seu salario 12345\n",
            "[{'nome': 'matheus', 'função': 'qwer2', 'salario': 12345.0}]\n",
            "{'nome': 'matheus', 'função': 'qwer2', 'salario': 12345.0}\n"
          ]
        },
        {
          "data": {
            "application/vnd.google.colaboratory.intrinsic+json": {
              "type": "string"
            },
            "text/plain": [
              "\"for p in l:\\n  if p['salario']==maior:\\n    print(f'maior salario: {l['salario']}')\\n    print(f'o funcionario com o maior salario é {l['nome']}')\""
            ]
          },
          "execution_count": 5,
          "metadata": {},
          "output_type": "execute_result"
        }
      ],
      "source": [
        "d ={}\n",
        "l = []\n",
        "maior = 0\n",
        "for i in range(1):\n",
        "  d =  {}\n",
        "\n",
        "  d[\"nome\"] = input(\"digite seu nome: \")\n",
        "  d[\"função\"] = input(\"digite sua função: \")\n",
        "  d[\"salario\"] = float(input(\"digite seu salario \"))\n",
        "  l.append(d)\n",
        "print(l)\n",
        "for i in l:\n",
        "  print(i)\n",
        "\n",
        "\n",
        "'''for p in l:\n",
        "  if p['salario']==maior:\n",
        "    print(f'maior salario: {l['salario']}')\n",
        "    print(f'o funcionario com o maior salario é {l['nome']}')'''\n",
        "\n"
      ]
    },
    {
      "cell_type": "code",
      "execution_count": null,
      "metadata": {
        "colab": {
          "base_uri": "https://localhost:8080/"
        },
        "id": "yEmIJnp9DS-c",
        "outputId": "875b2835-90da-470b-dcee-f862c1694559"
      },
      "outputs": [
        {
          "name": "stdout",
          "output_type": "stream",
          "text": [
            "11\n",
            "{'a': 1, 'b': [2, 1], 'c': 11}\n",
            "2\n"
          ]
        }
      ],
      "source": [
        "a ={'a':1,'b':[2,1]}\n",
        "\n",
        "c =int(input())\n",
        "a['c']=c\n",
        "print(a)\n",
        "for i in a.keys():\n",
        "  if i=='b':\n",
        "    print(a[i][0])"
      ]
    },
    {
      "cell_type": "code",
      "execution_count": null,
      "metadata": {
        "colab": {
          "base_uri": "https://localhost:8080/"
        },
        "id": "yKrhZB3qJJ9l",
        "outputId": "bc6517ec-e741-4984-8e01-8f430fb5af07"
      },
      "outputs": [
        {
          "name": "stdout",
          "output_type": "stream",
          "text": [
            "{'8h00 - matheus rocha '}\n"
          ]
        }
      ],
      "source": [
        "a ={'a':{'8h00 - matheus rocha '},'b': {'17h00 - lucas'}}\n",
        "print(a['a'])"
      ]
    },
    {
      "cell_type": "code",
      "execution_count": null,
      "metadata": {
        "colab": {
          "base_uri": "https://localhost:8080/"
        },
        "id": "8xJ_TsCVilww",
        "outputId": "99f2b527-6850-459d-da98-c42cd38b4c92"
      },
      "outputs": [
        {
          "name": "stdout",
          "output_type": "stream",
          "text": [
            "----------------------------------------\n",
            "MENU PRINCIPAL\n",
            "----------------------------------------\n",
            "vc é (1)paciente (2)medico (3)sair: 3\n",
            "sistema encerrado\n"
          ]
        }
      ],
      "source": [
        "lista_pacientes ={}\n",
        "consultas= {}\n",
        "segundaof,quartaof,sextaof ={},{},{}\n",
        "terça,quinta,sabado={},{},{}\n",
        "oftalmo ={'segundaof':[],'quartaof':[],'sextaof':[]}\n",
        "endo ={'terça':[],'quinta':[],'sabado':[]}\n",
        "\n",
        "cardiologista ={}\n",
        "nutricionista = {}\n",
        "print('--'*20)\n",
        "print('MENU PRINCIPAL')\n",
        "print('--'*20)\n",
        "d ={}\n",
        "while True:\n",
        "    op = int(input(\"vc é (1)paciente (2)medico (3)sair: \"))\n",
        "    if op==1:\n",
        "        print('bem vindo usuario')\n",
        "        nome=str(input(\"digite seu nome: \"))\n",
        "        d['cpf']=int(input(\"digite seu cpf: \"))\n",
        "        d['idade']=int(input(\"digite sua idade: \"))\n",
        "        print(d)\n",
        "        print('--'*20)\n",
        "        print('''MENU\n",
        "              (1) REALIZAR CONSULTA\n",
        "              (2) VER HISTORICO DE CONSULTAS''')\n",
        "        print('--'*20)\n",
        "\n",
        "        menu = int(input(\"digite sua opção: \"))\n",
        "        if menu==1:\n",
        "            op_area= int(input('''vc deseja se consultar com qual profissional:\n",
        "                  (1)Oftalmologista\n",
        "                  (2)Endocrinologista\n",
        "\n",
        "                  '''))\n",
        "            if op_area ==1:\n",
        "                print('--'*20)\n",
        "                print('OFTALMOLOGIA')\n",
        "                print('--'*20)\n",
        "                op =int(input('''MEDICOS\n",
        "                    ------------------------------------------------\n",
        "                      (1)DRA Gabriela marques -segunda/quarta/sexta\n",
        "\n",
        "                    -------------------------------------------------\n",
        "                        Digite sua opção: '''))\n",
        "                if op==1:\n",
        "                   dia =int(input('''Selecione o dia da sua consulta:\n",
        "                          (1)SEGUNDA\n",
        "                          (2)QUARTA\n",
        "                          (3)SEXTA  '''))\n",
        "                   if dia!=1 and dia!=2 and dia !=3:\n",
        "                       print('invalido')\n",
        "                   if dia==1:\n",
        "                       hr =int(input(\n",
        "                           '''selecione o horario:\n",
        "                          (1)08H00\n",
        "                          (2)10H00\n",
        "                          (3)15H00\n",
        "                          (4)17H00  '''))\n",
        "                       if hr==1:\n",
        "                           oftalmo['segundaof']=[nome,'08h00']\n",
        "                           print('consulta marcada')\n",
        "                       elif hr==2:\n",
        "                           oftalmo['segundaof']=[nome,'10h00']\n",
        "                       elif hr==3:\n",
        "                           oftalmo['segundaof']=[nome,'15h00']\n",
        "                           print('consulta marcada')\n",
        "                       elif hr==4:\n",
        "                           oftalmo['segundaof']=[nome,'17h00']\n",
        "                           print('consulta marcada')\n",
        "\n",
        "                   if dia==2:\n",
        "                       hr =int(input(\n",
        "                           '''selecione o horario:\n",
        "                          (1)08H00\n",
        "                          (2)10H00\n",
        "                          (3)15H00\n",
        "                          (4)17H00  '''))\n",
        "                       if hr==1:\n",
        "                           oftalmo['quartaof']=[nome,'08h00']\n",
        "                           print('consulta marcada')\n",
        "                       elif hr==2:\n",
        "                           oftalmo['quartaof']=[nome,'10h00']\n",
        "                           print('consulta marcada')\n",
        "                       elif hr==3:\n",
        "                           oftalmo['quartaof']=[nome,'15h00']\n",
        "                           print('consulta marcada')\n",
        "                       elif hr==4:\n",
        "                           oftalmo['quartaof']=[nome,'17h00']\n",
        "                           print('consulta marcada')\n",
        "\n",
        "                   if dia==3:\n",
        "                       hr =int(input(\n",
        "                           '''selecione o horario:\n",
        "                          (1)08H00\n",
        "                          (2)10H00\n",
        "                          (3)15H00\n",
        "                          (4)17H00  '''))\n",
        "                       if hr==1:\n",
        "                           oftalmo['sextaof']=[nome,'08h00']\n",
        "                           print('consulta marcada!')\n",
        "                       elif hr==2:\n",
        "                           oftalmo['sextaof']=[nome,'10h00']\n",
        "                           print('consulta marcada!')\n",
        "                       elif hr==3:\n",
        "                           oftalmo['sextaof']=[nome,'15h00']\n",
        "                           print('consulta marcada!')\n",
        "                       elif hr==4:\n",
        "                           oftalmo['sextaof']=[nome,'17h00']\n",
        "                           print('consulta marcada!')\n",
        "                           print(oftalmo)\n",
        "\n",
        "                       if hr not in[1,2,3,4]:\n",
        "                           print('opção invalida')\n",
        "            if op_area==2:\n",
        "                    print('--'*20)\n",
        "                    print('ENDOCRINOLOGISTA')\n",
        "                    print('--'*20)\n",
        "                    op =int(input('''MEDICOS\n",
        "                    ------------------------------------------------\n",
        "                      (1)DR: Dante alighieri -terça/quinta/sabado\n",
        "                    (2) Sair\n",
        "\n",
        "                    -------------------------------------------------\n",
        "                        Digite sua opção: '''))\n",
        "                    if op==1:\n",
        "                        dia =int(input('''Selecione o dia da sua consulta:\n",
        "                          (1)TERÇA\n",
        "                          (2)QUINTA\n",
        "                          (3)SABADO '''))\n",
        "                        if dia!=1 and dia!=2 and dia !=3:\n",
        "                            print('invalido')\n",
        "\n",
        "                        if dia==1:\n",
        "                                hr =int(input(\n",
        "                                    '''selecione o horario:\n",
        "                                    (1)08H00\n",
        "                                    (2)10H00\n",
        "                                    (3)15H00\n",
        "                                    (4)17H00'''))\n",
        "                                if hr==1:\n",
        "                                    endo['terça']=[nome,'08h00']\n",
        "                                    print('consulta marcada!')\n",
        "                                    print(endo)\n",
        "                                elif hr==2:\n",
        "                                    endo['terça']=[nome,'10h00']\n",
        "                                    print('consulta marcada!')\n",
        "                                elif hr==3:\n",
        "                                    endo['terça']=[nome,'15h00']\n",
        "                                    print('consulta marcada!')\n",
        "                                    print(endo)\n",
        "\n",
        "                                elif hr==4:\n",
        "                                    endo['terça']=[nome,'17h00']\n",
        "                                    print('consulta marcada!')\n",
        "                                    print(endo)\n",
        "                                    print(terça)\n",
        "                                if hr not in[1,2,3,4]:\n",
        "                                    print('opção invalida')\n",
        "                        if dia==2:\n",
        "                                hr =int(input(\n",
        "                                    '''selecione o horario:\n",
        "                                    (1)08H00\n",
        "                                    (2)10H00\n",
        "                                    (3)15H00\n",
        "                                    (4)17H00'''))\n",
        "                                if hr==1:\n",
        "                                    endo['quinta']=[nome,'08h00']\n",
        "                                    print('consulta marcada!')\n",
        "                                elif hr==2:\n",
        "                                    endo['quinta']=[nome,'10h00']\n",
        "                                    print('consulta marcada!')\n",
        "                                elif hr==3:\n",
        "                                    endo['quinta']=[nome,'15h00']\n",
        "                                    print('consulta marcada!')\n",
        "                                elif hr==4:\n",
        "                                    endo['quinta']=[nome,'17h00']\n",
        "                                    print('consulta marcada!')\n",
        "                                    print(endo)\n",
        "                                    print(quinta)\n",
        "                        if dia==3:\n",
        "                                hr =int(input(\n",
        "                                    '''selecione o horario:\n",
        "                                    (1)08H00\n",
        "                                    (2)10H00\n",
        "                                    (3)15H00\n",
        "                                    (4)17H00'''))\n",
        "                                if hr==1:\n",
        "                                    endo['sabado']=[nome,'08h00']\n",
        "                                    print('consulta marcada!')\n",
        "                                elif hr==2:\n",
        "                                    endo['sabado']=[nome,'10h00']\n",
        "                                    print('consulta marcada!')\n",
        "                                elif hr==3:\n",
        "                                    endo['sabado']=[nome,'15h00']\n",
        "                                    print('consulta marcada!')\n",
        "                                elif hr==4:\n",
        "                                    endo['sabado']=[nome,'17h00']\n",
        "                                    print('consulta marcada!')\n",
        "                                    print(endo)\n",
        "                                    print(sabado)\n",
        "        if menu==2:\n",
        "                print('VIZUALIZAR HISTORICO')\n",
        "                for i,j  in zip(endo.values(),oftalmo.values()):\n",
        "                   print(i,j)\n",
        "    if op==3:\n",
        "            break\n",
        "print('sistema encerrado')"
      ]
    },
    {
      "cell_type": "code",
      "execution_count": null,
      "metadata": {
        "id": "wIl-Y30qqLJD",
        "colab": {
          "base_uri": "https://localhost:8080/"
        },
        "outputId": "8876b3f9-c775-4ada-804e-f1109f9cf279"
      },
      "outputs": [
        {
          "output_type": "stream",
          "name": "stdout",
          "text": [
            "digite o tipo do comodo: 2\n",
            "digite a largura do comodo: 55\n",
            "digite o comprimento  do comodo:  65\n",
            "A area total do comodo é 3575.0 \n",
            " a potencia total em watts é 71500.0 e o numero de lampadas ideal é 1192\n"
          ]
        }
      ],
      "source": [
        "def area(largura,comprimento):\n",
        "    area = largura*comprimento\n",
        "    return area\n",
        "\n",
        "def pot(tipo,ar):\n",
        "    if tipo ==1:\n",
        "      p = 15*ar\n",
        "    elif tipo ==2:\n",
        "      p = 20*ar\n",
        "    elif tipo ==3:\n",
        "      p = 25*ar\n",
        "    elif tipo ==0:\n",
        "      p = ar*12\n",
        "    else:\n",
        "      print('invalido')\n",
        "    return p\n",
        "def lam(p):\n",
        "    import math\n",
        "    lt = math.ceil(p/60)\n",
        "\n",
        "    return lt\n",
        "\n",
        "def menu():\n",
        "  tipo = int(input(\"digite o tipo do comodo: \"))\n",
        "  largura = float(input(\"digite a largura do comodo: \"))\n",
        "  comprimento =  float(input(\"digite o comprimento  do comodo:  \"))\n",
        "\n",
        "  x = area(largura,comprimento)\n",
        "  y = pot(tipo,x)\n",
        "  l = lam(y)\n",
        "  print(f'A area total do comodo é {x} \\n a potencia total em watts é {y} e o numero de lampadas ideal é {l}')\n",
        "menu()"
      ]
    },
    {
      "cell_type": "code",
      "source": [],
      "metadata": {
        "id": "cSa_QrN_isGb"
      },
      "execution_count": null,
      "outputs": []
    },
    {
      "cell_type": "code",
      "execution_count": null,
      "metadata": {
        "id": "uTd6A3TlwMBX"
      },
      "outputs": [],
      "source": [
        "pares = 0\n",
        "impares = 0\n",
        "def var(a):\n",
        "  pares = 0\n",
        "  impares = 0\n",
        "  for i in a:\n",
        "    if i%2==0:\n",
        "      pares +=i\n",
        "    elif i%2!=0:\n",
        "      impares+=i\n",
        "  return pares,impares"
      ]
    },
    {
      "cell_type": "code",
      "execution_count": null,
      "metadata": {
        "id": "V3ylYJutqYl0"
      },
      "outputs": [],
      "source": [
        "def x(a,b):\n",
        "  return a**b\n",
        "def a(c,b):\n",
        "\n",
        "  return x(c,b) +1\n",
        "\n"
      ]
    },
    {
      "cell_type": "markdown",
      "metadata": {
        "id": "2azJrJe1sOri"
      },
      "source": [
        "# duvidas com dicionarios  \n"
      ]
    },
    {
      "cell_type": "code",
      "execution_count": null,
      "metadata": {
        "colab": {
          "base_uri": "https://localhost:8080/"
        },
        "id": "OEXsi_mqsTiY",
        "outputId": "1f99ba8e-3f01-4cdd-a22c-0b4a10df515b"
      },
      "outputs": [
        {
          "name": "stdout",
          "output_type": "stream",
          "text": [
            "a chave nome tem como valor matheus\n",
            "a chave idade1 tem como valor 24\n",
            "a chave sexo1 tem como valor m\n",
            "a chave nome1 tem como valor lucas\n",
            "a chave idade2 tem como valor 20\n",
            "a chave sexo2 tem como valor m\n",
            "a chave nome2 tem como valor antonio\n",
            "a chave idade3 tem como valor 21\n",
            "a chave sexo3 tem como valor m\n"
          ]
        }
      ],
      "source": [
        "#\n",
        "a ={'nome':'matheus','idade1':24,'sexo1':'m','nome1': 'lucas','idade2':20,'sexo2':'m','nome2': 'antonio','idade3':21,'sexo3':'m'}\n",
        "for i in a.keys():\n",
        "  print(f'a chave {i} tem como valor {a[i]}')\n"
      ]
    }
  ],
  "metadata": {
    "colab": {
      "provenance": [],
      "authorship_tag": "ABX9TyNoQ8VyFm3DIenoq77niwah",
      "include_colab_link": true
    },
    "kernelspec": {
      "display_name": "Python 3",
      "name": "python3"
    },
    "language_info": {
      "name": "python"
    }
  },
  "nbformat": 4,
  "nbformat_minor": 0
}